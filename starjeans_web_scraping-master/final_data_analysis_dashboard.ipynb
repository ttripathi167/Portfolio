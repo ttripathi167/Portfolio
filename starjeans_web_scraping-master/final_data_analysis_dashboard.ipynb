{
 "cells": [
  {
   "cell_type": "markdown",
   "id": "82694953",
   "metadata": {
    "heading_collapsed": true,
    "tags": []
   },
   "source": [
    "# Star Jeans Data Analysis"
   ]
  },
  {
   "cell_type": "markdown",
   "id": "197a3b8b",
   "metadata": {
    "tags": []
   },
   "source": [
    "## 0.0. Imports"
   ]
  },
  {
   "cell_type": "code",
   "execution_count": 1,
   "id": "78ce8410",
   "metadata": {
    "ExecuteTime": {
     "end_time": "2022-06-16T06:36:03.178090Z",
     "start_time": "2022-06-16T06:36:01.191623Z"
    }
   },
   "outputs": [],
   "source": [
    "import pandas as pd\n",
    "import numpy as np\n",
    "from sqlalchemy import create_engine\n",
    "import seaborn as sns\n",
    "from IPython.core.display import HTML"
   ]
  },
  {
   "cell_type": "markdown",
   "id": "de107948-220d-4451-88ba-a9b49017abd4",
   "metadata": {
    "tags": []
   },
   "source": [
    "### 0.1. Helper Functions"
   ]
  },
  {
   "cell_type": "code",
   "execution_count": 2,
   "id": "59d96ca9",
   "metadata": {
    "ExecuteTime": {
     "end_time": "2022-06-16T06:36:03.215646Z",
     "start_time": "2022-06-16T06:36:03.182016Z"
    }
   },
   "outputs": [
    {
     "name": "stdout",
     "output_type": "stream",
     "text": [
      "%pylab is deprecated, use %matplotlib inline and import the required libraries.\n",
      "Populating the interactive namespace from numpy and matplotlib\n"
     ]
    },
    {
     "data": {
      "text/html": [
       "<style>.container { width:100% !important; }</style>"
      ],
      "text/plain": [
       "<IPython.core.display.HTML object>"
      ]
     },
     "metadata": {},
     "output_type": "display_data"
    }
   ],
   "source": [
    "def jupyter_settings():\n",
    "    %matplotlib inline\n",
    "    %pylab inline\n",
    "    plt.style.use( 'bmh' )\n",
    "    plt.rcParams['figure.figsize'] = [25, 12]\n",
    "    plt.rcParams['font.size'] = 24\n",
    "    display( HTML( '<style>.container { width:100% !important; }</style>') )\n",
    "    pd.options.display.max_columns = None\n",
    "    pd.options.display.max_rows = None\n",
    "    pd.set_option( 'display.expand_frame_repr', False )\n",
    "    sns.set()\n",
    "jupyter_settings() "
   ]
  },
  {
   "cell_type": "markdown",
   "id": "42f1617c",
   "metadata": {
    "tags": []
   },
   "source": [
    "### 0.2. Loading Data\n"
   ]
  },
  {
   "cell_type": "code",
   "execution_count": 3,
   "id": "42bb1260",
   "metadata": {
    "ExecuteTime": {
     "end_time": "2022-06-16T06:36:03.287504Z",
     "start_time": "2022-06-16T06:36:03.218531Z"
    }
   },
   "outputs": [],
   "source": [
    "path = '/home/mars/repos/StarJeans/projeto_final/'\n",
    "database_name = 'database_hm01.sqlite'\n",
    "conn = create_engine( 'sqlite:///' + path + database_name, echo=False )"
   ]
  },
  {
   "cell_type": "code",
   "execution_count": 4,
   "id": "71625543",
   "metadata": {
    "ExecuteTime": {
     "end_time": "2022-06-16T06:36:03.293262Z",
     "start_time": "2022-06-16T06:36:03.289422Z"
    }
   },
   "outputs": [],
   "source": [
    "query = \"\"\"\n",
    "    SELECT * FROM vitrine\n",
    "\"\"\""
   ]
  },
  {
   "cell_type": "code",
   "execution_count": 5,
   "id": "0832853e",
   "metadata": {
    "ExecuteTime": {
     "end_time": "2022-06-16T06:36:03.315578Z",
     "start_time": "2022-06-16T06:36:03.297599Z"
    }
   },
   "outputs": [],
   "source": [
    "df_raw = pd.read_sql( query, con=conn )"
   ]
  },
  {
   "cell_type": "markdown",
   "id": "84c93831",
   "metadata": {
    "tags": []
   },
   "source": [
    "## 1.0. Data Description"
   ]
  },
  {
   "cell_type": "code",
   "execution_count": 6,
   "id": "66020a58",
   "metadata": {
    "ExecuteTime": {
     "end_time": "2022-06-16T06:36:03.324328Z",
     "start_time": "2022-06-16T06:36:03.320141Z"
    }
   },
   "outputs": [],
   "source": [
    "df01 = df_raw.copy()"
   ]
  },
  {
   "cell_type": "markdown",
   "id": "7f0a53f7",
   "metadata": {
    "tags": []
   },
   "source": [
    "### 1.1. Data Dimensions"
   ]
  },
  {
   "cell_type": "code",
   "execution_count": 7,
   "id": "3b5ad53d",
   "metadata": {
    "ExecuteTime": {
     "end_time": "2022-06-16T06:36:03.334464Z",
     "start_time": "2022-06-16T06:36:03.327212Z"
    }
   },
   "outputs": [
    {
     "name": "stdout",
     "output_type": "stream",
     "text": [
      "Number of Rows: 606\n",
      "Number of Cols: 13\n"
     ]
    }
   ],
   "source": [
    "print( 'Number of Rows: {}'.format( df01.shape[0] ) )\n",
    "print( 'Number of Cols: {}'.format( df01.shape[1] ) )"
   ]
  },
  {
   "cell_type": "markdown",
   "id": "5ce270e7",
   "metadata": {
    "tags": []
   },
   "source": [
    "### 1.2. Data Types"
   ]
  },
  {
   "cell_type": "code",
   "execution_count": 8,
   "id": "200f7cff",
   "metadata": {
    "ExecuteTime": {
     "end_time": "2022-06-16T06:36:03.342359Z",
     "start_time": "2022-06-16T06:36:03.336686Z"
    },
    "scrolled": true
   },
   "outputs": [
    {
     "data": {
      "text/plain": [
       "product_id          object\n",
       "style_id            object\n",
       "color_id            object\n",
       "product_name        object\n",
       "color_name          object\n",
       "fit                 object\n",
       "product_price      float64\n",
       "size_number         object\n",
       "size_leg            object\n",
       "cotton             float64\n",
       "polyester          float64\n",
       "spandex            float64\n",
       "scrapy_datetime     object\n",
       "dtype: object"
      ]
     },
     "execution_count": 8,
     "metadata": {},
     "output_type": "execute_result"
    }
   ],
   "source": [
    "df01.dtypes"
   ]
  },
  {
   "cell_type": "code",
   "execution_count": 9,
   "id": "08a44b1f",
   "metadata": {
    "ExecuteTime": {
     "end_time": "2022-06-16T06:36:03.354011Z",
     "start_time": "2022-06-16T06:36:03.346171Z"
    }
   },
   "outputs": [],
   "source": [
    "# convert object to datetime\n",
    "df01['scrapy_datetime'] = pd.to_datetime( df01['scrapy_datetime'] )"
   ]
  },
  {
   "cell_type": "markdown",
   "id": "28fb4bce",
   "metadata": {
    "tags": []
   },
   "source": [
    "### 1.3. Check NA"
   ]
  },
  {
   "cell_type": "code",
   "execution_count": 10,
   "id": "5264e4da",
   "metadata": {
    "ExecuteTime": {
     "end_time": "2022-06-16T06:36:03.377955Z",
     "start_time": "2022-06-16T06:36:03.355800Z"
    }
   },
   "outputs": [
    {
     "data": {
      "text/html": [
       "<div>\n",
       "<style scoped>\n",
       "    .dataframe tbody tr th:only-of-type {\n",
       "        vertical-align: middle;\n",
       "    }\n",
       "\n",
       "    .dataframe tbody tr th {\n",
       "        vertical-align: top;\n",
       "    }\n",
       "\n",
       "    .dataframe thead th {\n",
       "        text-align: right;\n",
       "    }\n",
       "</style>\n",
       "<table border=\"1\" class=\"dataframe\">\n",
       "  <thead>\n",
       "    <tr style=\"text-align: right;\">\n",
       "      <th></th>\n",
       "      <th>product_id</th>\n",
       "      <th>style_id</th>\n",
       "      <th>color_id</th>\n",
       "      <th>product_name</th>\n",
       "      <th>color_name</th>\n",
       "      <th>fit</th>\n",
       "      <th>product_price</th>\n",
       "      <th>size_number</th>\n",
       "      <th>size_leg</th>\n",
       "      <th>cotton</th>\n",
       "      <th>polyester</th>\n",
       "      <th>spandex</th>\n",
       "      <th>scrapy_datetime</th>\n",
       "    </tr>\n",
       "  </thead>\n",
       "  <tbody>\n",
       "    <tr>\n",
       "      <th>0</th>\n",
       "      <td>1024256001</td>\n",
       "      <td>1024256</td>\n",
       "      <td>001</td>\n",
       "      <td>slim_jeans</td>\n",
       "      <td>black</td>\n",
       "      <td>slim_fit</td>\n",
       "      <td>19.99</td>\n",
       "      <td>None</td>\n",
       "      <td>None</td>\n",
       "      <td>0.99</td>\n",
       "      <td>0.65</td>\n",
       "      <td>0.01</td>\n",
       "      <td>2022-04-23 06:04:44</td>\n",
       "    </tr>\n",
       "    <tr>\n",
       "      <th>1</th>\n",
       "      <td>1024256002</td>\n",
       "      <td>1024256</td>\n",
       "      <td>002</td>\n",
       "      <td>slim_jeans</td>\n",
       "      <td>light_denim_blue</td>\n",
       "      <td>slim_fit</td>\n",
       "      <td>19.99</td>\n",
       "      <td>None</td>\n",
       "      <td>None</td>\n",
       "      <td>0.99</td>\n",
       "      <td>0.65</td>\n",
       "      <td>0.01</td>\n",
       "      <td>2022-04-23 06:04:44</td>\n",
       "    </tr>\n",
       "    <tr>\n",
       "      <th>2</th>\n",
       "      <td>1024256003</td>\n",
       "      <td>1024256</td>\n",
       "      <td>003</td>\n",
       "      <td>slim_jeans</td>\n",
       "      <td>light_denim_blue</td>\n",
       "      <td>slim_fit</td>\n",
       "      <td>19.99</td>\n",
       "      <td>None</td>\n",
       "      <td>None</td>\n",
       "      <td>0.99</td>\n",
       "      <td>0.65</td>\n",
       "      <td>0.01</td>\n",
       "      <td>2022-04-23 06:04:44</td>\n",
       "    </tr>\n",
       "    <tr>\n",
       "      <th>3</th>\n",
       "      <td>1024256004</td>\n",
       "      <td>1024256</td>\n",
       "      <td>004</td>\n",
       "      <td>slim_jeans</td>\n",
       "      <td>denim_blue</td>\n",
       "      <td>slim_fit</td>\n",
       "      <td>19.99</td>\n",
       "      <td>None</td>\n",
       "      <td>None</td>\n",
       "      <td>0.99</td>\n",
       "      <td>0.65</td>\n",
       "      <td>0.01</td>\n",
       "      <td>2022-04-23 06:04:44</td>\n",
       "    </tr>\n",
       "    <tr>\n",
       "      <th>4</th>\n",
       "      <td>1024256005</td>\n",
       "      <td>1024256</td>\n",
       "      <td>005</td>\n",
       "      <td>slim_jeans</td>\n",
       "      <td>dark_blue</td>\n",
       "      <td>slim_fit</td>\n",
       "      <td>19.99</td>\n",
       "      <td>None</td>\n",
       "      <td>None</td>\n",
       "      <td>0.99</td>\n",
       "      <td>0.65</td>\n",
       "      <td>0.01</td>\n",
       "      <td>2022-04-23 06:04:44</td>\n",
       "    </tr>\n",
       "    <tr>\n",
       "      <th>5</th>\n",
       "      <td>1024256006</td>\n",
       "      <td>1024256</td>\n",
       "      <td>006</td>\n",
       "      <td>slim_jeans</td>\n",
       "      <td>dark_denim_blue</td>\n",
       "      <td>slim_fit</td>\n",
       "      <td>19.99</td>\n",
       "      <td>None</td>\n",
       "      <td>None</td>\n",
       "      <td>1.00</td>\n",
       "      <td>0.00</td>\n",
       "      <td>0.01</td>\n",
       "      <td>2022-04-23 06:04:44</td>\n",
       "    </tr>\n",
       "    <tr>\n",
       "      <th>6</th>\n",
       "      <td>1024256007</td>\n",
       "      <td>1024256</td>\n",
       "      <td>007</td>\n",
       "      <td>slim_jeans</td>\n",
       "      <td>dark_gray</td>\n",
       "      <td>slim_fit</td>\n",
       "      <td>19.99</td>\n",
       "      <td>None</td>\n",
       "      <td>None</td>\n",
       "      <td>0.99</td>\n",
       "      <td>0.65</td>\n",
       "      <td>0.01</td>\n",
       "      <td>2022-04-23 06:04:44</td>\n",
       "    </tr>\n",
       "    <tr>\n",
       "      <th>7</th>\n",
       "      <td>1024256008</td>\n",
       "      <td>1024256</td>\n",
       "      <td>008</td>\n",
       "      <td>slim_jeans</td>\n",
       "      <td>white</td>\n",
       "      <td>slim_fit</td>\n",
       "      <td>19.99</td>\n",
       "      <td>None</td>\n",
       "      <td>None</td>\n",
       "      <td>1.00</td>\n",
       "      <td>0.00</td>\n",
       "      <td>0.01</td>\n",
       "      <td>2022-04-23 06:04:44</td>\n",
       "    </tr>\n",
       "    <tr>\n",
       "      <th>8</th>\n",
       "      <td>0938875002</td>\n",
       "      <td>0938875</td>\n",
       "      <td>002</td>\n",
       "      <td>slim_tapered_jeans</td>\n",
       "      <td>white</td>\n",
       "      <td>slim_fit</td>\n",
       "      <td>39.99</td>\n",
       "      <td>None</td>\n",
       "      <td>None</td>\n",
       "      <td>1.00</td>\n",
       "      <td>0.00</td>\n",
       "      <td>0.01</td>\n",
       "      <td>2022-04-23 06:04:44</td>\n",
       "    </tr>\n",
       "    <tr>\n",
       "      <th>9</th>\n",
       "      <td>0938875001</td>\n",
       "      <td>0938875</td>\n",
       "      <td>001</td>\n",
       "      <td>slim_tapered_jeans</td>\n",
       "      <td>light_denim_blue</td>\n",
       "      <td>slim_fit</td>\n",
       "      <td>29.99</td>\n",
       "      <td>None</td>\n",
       "      <td>None</td>\n",
       "      <td>1.00</td>\n",
       "      <td>0.00</td>\n",
       "      <td>0.01</td>\n",
       "      <td>2022-04-23 06:04:44</td>\n",
       "    </tr>\n",
       "  </tbody>\n",
       "</table>\n",
       "</div>"
      ],
      "text/plain": [
       "   product_id style_id color_id        product_name        color_name       fit  product_price size_number size_leg  cotton  polyester  spandex     scrapy_datetime\n",
       "0  1024256001  1024256      001          slim_jeans             black  slim_fit          19.99        None     None    0.99       0.65     0.01 2022-04-23 06:04:44\n",
       "1  1024256002  1024256      002          slim_jeans  light_denim_blue  slim_fit          19.99        None     None    0.99       0.65     0.01 2022-04-23 06:04:44\n",
       "2  1024256003  1024256      003          slim_jeans  light_denim_blue  slim_fit          19.99        None     None    0.99       0.65     0.01 2022-04-23 06:04:44\n",
       "3  1024256004  1024256      004          slim_jeans        denim_blue  slim_fit          19.99        None     None    0.99       0.65     0.01 2022-04-23 06:04:44\n",
       "4  1024256005  1024256      005          slim_jeans         dark_blue  slim_fit          19.99        None     None    0.99       0.65     0.01 2022-04-23 06:04:44\n",
       "5  1024256006  1024256      006          slim_jeans   dark_denim_blue  slim_fit          19.99        None     None    1.00       0.00     0.01 2022-04-23 06:04:44\n",
       "6  1024256007  1024256      007          slim_jeans         dark_gray  slim_fit          19.99        None     None    0.99       0.65     0.01 2022-04-23 06:04:44\n",
       "7  1024256008  1024256      008          slim_jeans             white  slim_fit          19.99        None     None    1.00       0.00     0.01 2022-04-23 06:04:44\n",
       "8  0938875002  0938875      002  slim_tapered_jeans             white  slim_fit          39.99        None     None    1.00       0.00     0.01 2022-04-23 06:04:44\n",
       "9  0938875001  0938875      001  slim_tapered_jeans  light_denim_blue  slim_fit          29.99        None     None    1.00       0.00     0.01 2022-04-23 06:04:44"
      ]
     },
     "execution_count": 10,
     "metadata": {},
     "output_type": "execute_result"
    }
   ],
   "source": [
    "df01.head(10)"
   ]
  },
  {
   "cell_type": "code",
   "execution_count": 11,
   "id": "6482b771",
   "metadata": {
    "ExecuteTime": {
     "end_time": "2022-06-16T06:36:03.386596Z",
     "start_time": "2022-06-16T06:36:03.380204Z"
    },
    "tags": []
   },
   "outputs": [
    {
     "data": {
      "text/plain": [
       "product_id           0\n",
       "style_id             0\n",
       "color_id             0\n",
       "product_name         0\n",
       "color_name           0\n",
       "fit                  3\n",
       "product_price        0\n",
       "size_number        492\n",
       "size_leg           492\n",
       "cotton               0\n",
       "polyester            0\n",
       "spandex              0\n",
       "scrapy_datetime      0\n",
       "dtype: int64"
      ]
     },
     "execution_count": 11,
     "metadata": {},
     "output_type": "execute_result"
    }
   ],
   "source": [
    "df01.isna().sum()"
   ]
  },
  {
   "cell_type": "code",
   "execution_count": 12,
   "id": "c85bbc04",
   "metadata": {
    "ExecuteTime": {
     "end_time": "2022-06-16T06:36:03.401384Z",
     "start_time": "2022-06-16T06:36:03.388299Z"
    }
   },
   "outputs": [
    {
     "name": "stdout",
     "output_type": "stream",
     "text": [
      "<class 'pandas.core.frame.DataFrame'>\n",
      "RangeIndex: 606 entries, 0 to 605\n",
      "Data columns (total 13 columns):\n",
      " #   Column           Non-Null Count  Dtype         \n",
      "---  ------           --------------  -----         \n",
      " 0   product_id       606 non-null    object        \n",
      " 1   style_id         606 non-null    object        \n",
      " 2   color_id         606 non-null    object        \n",
      " 3   product_name     606 non-null    object        \n",
      " 4   color_name       606 non-null    object        \n",
      " 5   fit              603 non-null    object        \n",
      " 6   product_price    606 non-null    float64       \n",
      " 7   size_number      114 non-null    object        \n",
      " 8   size_leg         114 non-null    object        \n",
      " 9   cotton           606 non-null    float64       \n",
      " 10  polyester        606 non-null    float64       \n",
      " 11  spandex          606 non-null    float64       \n",
      " 12  scrapy_datetime  606 non-null    datetime64[ns]\n",
      "dtypes: datetime64[ns](1), float64(4), object(8)\n",
      "memory usage: 61.7+ KB\n"
     ]
    }
   ],
   "source": [
    "df01.info()"
   ]
  },
  {
   "cell_type": "code",
   "execution_count": 13,
   "id": "53908e1b",
   "metadata": {
    "ExecuteTime": {
     "end_time": "2022-06-16T06:36:03.413935Z",
     "start_time": "2022-06-16T06:36:03.403628Z"
    }
   },
   "outputs": [
    {
     "data": {
      "text/plain": [
       "product_id         0.000000\n",
       "style_id           0.000000\n",
       "color_id           0.000000\n",
       "product_name       0.000000\n",
       "color_name         0.000000\n",
       "fit                0.004950\n",
       "product_price      0.000000\n",
       "size_number        0.811881\n",
       "size_leg           0.811881\n",
       "cotton             0.000000\n",
       "polyester          0.000000\n",
       "spandex            0.000000\n",
       "scrapy_datetime    0.000000\n",
       "dtype: float64"
      ]
     },
     "execution_count": 13,
     "metadata": {},
     "output_type": "execute_result"
    }
   ],
   "source": [
    "df01.isna().sum() / df01.shape[0]"
   ]
  },
  {
   "cell_type": "markdown",
   "id": "28c1bab3",
   "metadata": {
    "tags": []
   },
   "source": [
    "### 1.4. Removing NA"
   ]
  },
  {
   "cell_type": "code",
   "execution_count": 14,
   "id": "6183d006",
   "metadata": {
    "ExecuteTime": {
     "end_time": "2022-06-16T06:36:03.428307Z",
     "start_time": "2022-06-16T06:36:03.416660Z"
    }
   },
   "outputs": [],
   "source": [
    "df01 = df01.drop( columns = ['size_number', 'size_leg'] ).dropna()"
   ]
  },
  {
   "cell_type": "markdown",
   "id": "992896dd",
   "metadata": {
    "tags": []
   },
   "source": [
    "### 1.5. Descriptive Statistical"
   ]
  },
  {
   "cell_type": "code",
   "execution_count": 15,
   "id": "8c6b6047",
   "metadata": {
    "ExecuteTime": {
     "end_time": "2022-06-16T06:36:03.438880Z",
     "start_time": "2022-06-16T06:36:03.431205Z"
    }
   },
   "outputs": [],
   "source": [
    "num_attributes = df01.select_dtypes( include=['int64', 'float64'] )\n",
    "cat_attributes = df01.select_dtypes( exclude=['int64', 'float64', 'datetime64[ns]'] )"
   ]
  },
  {
   "cell_type": "markdown",
   "id": "61a82e6a",
   "metadata": {},
   "source": [
    "#### 1.5.1. Numerical Attributes"
   ]
  },
  {
   "cell_type": "code",
   "execution_count": 16,
   "id": "dba8ac42",
   "metadata": {
    "ExecuteTime": {
     "end_time": "2022-06-16T06:36:03.468608Z",
     "start_time": "2022-06-16T06:36:03.441252Z"
    }
   },
   "outputs": [
    {
     "data": {
      "text/html": [
       "<div>\n",
       "<style scoped>\n",
       "    .dataframe tbody tr th:only-of-type {\n",
       "        vertical-align: middle;\n",
       "    }\n",
       "\n",
       "    .dataframe tbody tr th {\n",
       "        vertical-align: top;\n",
       "    }\n",
       "\n",
       "    .dataframe thead th {\n",
       "        text-align: right;\n",
       "    }\n",
       "</style>\n",
       "<table border=\"1\" class=\"dataframe\">\n",
       "  <thead>\n",
       "    <tr style=\"text-align: right;\">\n",
       "      <th></th>\n",
       "      <th>attributes</th>\n",
       "      <th>min</th>\n",
       "      <th>max</th>\n",
       "      <th>range</th>\n",
       "      <th>mean</th>\n",
       "      <th>median</th>\n",
       "      <th>std</th>\n",
       "      <th>skew</th>\n",
       "      <th>kurtosis</th>\n",
       "    </tr>\n",
       "  </thead>\n",
       "  <tbody>\n",
       "    <tr>\n",
       "      <th>0</th>\n",
       "      <td>product_price</td>\n",
       "      <td>7.99</td>\n",
       "      <td>49.99</td>\n",
       "      <td>42.00</td>\n",
       "      <td>27.208905</td>\n",
       "      <td>27.99</td>\n",
       "      <td>9.310660</td>\n",
       "      <td>0.449952</td>\n",
       "      <td>-0.387062</td>\n",
       "    </tr>\n",
       "    <tr>\n",
       "      <th>1</th>\n",
       "      <td>cotton</td>\n",
       "      <td>0.72</td>\n",
       "      <td>1.00</td>\n",
       "      <td>0.28</td>\n",
       "      <td>0.970945</td>\n",
       "      <td>0.99</td>\n",
       "      <td>0.055122</td>\n",
       "      <td>-2.652726</td>\n",
       "      <td>6.624648</td>\n",
       "    </tr>\n",
       "    <tr>\n",
       "      <th>2</th>\n",
       "      <td>polyester</td>\n",
       "      <td>0.00</td>\n",
       "      <td>1.00</td>\n",
       "      <td>1.00</td>\n",
       "      <td>0.251095</td>\n",
       "      <td>0.00</td>\n",
       "      <td>0.321253</td>\n",
       "      <td>0.684549</td>\n",
       "      <td>-1.273506</td>\n",
       "    </tr>\n",
       "    <tr>\n",
       "      <th>3</th>\n",
       "      <td>spandex</td>\n",
       "      <td>0.00</td>\n",
       "      <td>0.02</td>\n",
       "      <td>0.02</td>\n",
       "      <td>0.010647</td>\n",
       "      <td>0.01</td>\n",
       "      <td>0.007667</td>\n",
       "      <td>-0.110445</td>\n",
       "      <td>-1.293136</td>\n",
       "    </tr>\n",
       "  </tbody>\n",
       "</table>\n",
       "</div>"
      ],
      "text/plain": [
       "      attributes   min    max  range       mean  median       std      skew  kurtosis\n",
       "0  product_price  7.99  49.99  42.00  27.208905   27.99  9.310660  0.449952 -0.387062\n",
       "1         cotton  0.72   1.00   0.28   0.970945    0.99  0.055122 -2.652726  6.624648\n",
       "2      polyester  0.00   1.00   1.00   0.251095    0.00  0.321253  0.684549 -1.273506\n",
       "3        spandex  0.00   0.02   0.02   0.010647    0.01  0.007667 -0.110445 -1.293136"
      ]
     },
     "execution_count": 16,
     "metadata": {},
     "output_type": "execute_result"
    }
   ],
   "source": [
    "# Metricas de tendencia central: Media, Mediana\n",
    "t1 = pd.DataFrame( num_attributes.apply( np.mean ) ).T\n",
    "t2 = pd.DataFrame( num_attributes.apply( np.median ) ).T\n",
    "\n",
    "# Metricas de dispersao: STD, MIN, MAX, RANGE, SKEW\n",
    "d1 = pd.DataFrame( num_attributes.apply( np.std ) ).T\n",
    "d2 = pd.DataFrame( num_attributes.apply( np.min ) ).T\n",
    "d3 = pd.DataFrame( num_attributes.apply( np.max ) ).T\n",
    "d4 = pd.DataFrame( num_attributes.apply( lambda x: x.max() - x.min() ) ).T\n",
    "d5 = pd.DataFrame( num_attributes.apply( lambda x: x.skew() ) ).T\n",
    "d6 = pd.DataFrame( num_attributes.apply( lambda x: x.kurtosis() ) ).T\n",
    "\n",
    "# concat\n",
    "m1 = pd.concat( [d2, d3, d4, t1, t2, d1, d5, d6]).T.reset_index()\n",
    "m1.columns = ['attributes', 'min', 'max', 'range', 'mean', 'median', 'std', 'skew', 'kurtosis']\n",
    "m1"
   ]
  },
  {
   "cell_type": "code",
   "execution_count": 17,
   "id": "932df62c",
   "metadata": {
    "ExecuteTime": {
     "end_time": "2022-06-16T06:36:03.494712Z",
     "start_time": "2022-06-16T06:36:03.472605Z"
    },
    "scrolled": true
   },
   "outputs": [
    {
     "data": {
      "text/html": [
       "<div>\n",
       "<style scoped>\n",
       "    .dataframe tbody tr th:only-of-type {\n",
       "        vertical-align: middle;\n",
       "    }\n",
       "\n",
       "    .dataframe tbody tr th {\n",
       "        vertical-align: top;\n",
       "    }\n",
       "\n",
       "    .dataframe thead th {\n",
       "        text-align: right;\n",
       "    }\n",
       "</style>\n",
       "<table border=\"1\" class=\"dataframe\">\n",
       "  <thead>\n",
       "    <tr style=\"text-align: right;\">\n",
       "      <th></th>\n",
       "      <th>product_price</th>\n",
       "      <th>cotton</th>\n",
       "      <th>polyester</th>\n",
       "      <th>spandex</th>\n",
       "    </tr>\n",
       "  </thead>\n",
       "  <tbody>\n",
       "    <tr>\n",
       "      <th>count</th>\n",
       "      <td>603.000000</td>\n",
       "      <td>603.000000</td>\n",
       "      <td>603.000000</td>\n",
       "      <td>603.000000</td>\n",
       "    </tr>\n",
       "    <tr>\n",
       "      <th>mean</th>\n",
       "      <td>27.208905</td>\n",
       "      <td>0.970945</td>\n",
       "      <td>0.251095</td>\n",
       "      <td>0.010647</td>\n",
       "    </tr>\n",
       "    <tr>\n",
       "      <th>std</th>\n",
       "      <td>9.318390</td>\n",
       "      <td>0.055168</td>\n",
       "      <td>0.321520</td>\n",
       "      <td>0.007674</td>\n",
       "    </tr>\n",
       "    <tr>\n",
       "      <th>min</th>\n",
       "      <td>7.990000</td>\n",
       "      <td>0.720000</td>\n",
       "      <td>0.000000</td>\n",
       "      <td>0.000000</td>\n",
       "    </tr>\n",
       "    <tr>\n",
       "      <th>25%</th>\n",
       "      <td>19.990000</td>\n",
       "      <td>0.980000</td>\n",
       "      <td>0.000000</td>\n",
       "      <td>0.000000</td>\n",
       "    </tr>\n",
       "    <tr>\n",
       "      <th>50%</th>\n",
       "      <td>27.990000</td>\n",
       "      <td>0.990000</td>\n",
       "      <td>0.000000</td>\n",
       "      <td>0.010000</td>\n",
       "    </tr>\n",
       "    <tr>\n",
       "      <th>75%</th>\n",
       "      <td>29.990000</td>\n",
       "      <td>1.000000</td>\n",
       "      <td>0.650000</td>\n",
       "      <td>0.020000</td>\n",
       "    </tr>\n",
       "    <tr>\n",
       "      <th>max</th>\n",
       "      <td>49.990000</td>\n",
       "      <td>1.000000</td>\n",
       "      <td>1.000000</td>\n",
       "      <td>0.020000</td>\n",
       "    </tr>\n",
       "  </tbody>\n",
       "</table>\n",
       "</div>"
      ],
      "text/plain": [
       "       product_price      cotton   polyester     spandex\n",
       "count     603.000000  603.000000  603.000000  603.000000\n",
       "mean       27.208905    0.970945    0.251095    0.010647\n",
       "std         9.318390    0.055168    0.321520    0.007674\n",
       "min         7.990000    0.720000    0.000000    0.000000\n",
       "25%        19.990000    0.980000    0.000000    0.000000\n",
       "50%        27.990000    0.990000    0.000000    0.010000\n",
       "75%        29.990000    1.000000    0.650000    0.020000\n",
       "max        49.990000    1.000000    1.000000    0.020000"
      ]
     },
     "execution_count": 17,
     "metadata": {},
     "output_type": "execute_result"
    }
   ],
   "source": [
    "df01.describe()"
   ]
  },
  {
   "cell_type": "markdown",
   "id": "c5129986",
   "metadata": {},
   "source": [
    "#### 1.5.2. Categorical Data"
   ]
  },
  {
   "cell_type": "code",
   "execution_count": 18,
   "id": "41435ff4",
   "metadata": {
    "ExecuteTime": {
     "end_time": "2022-06-16T06:36:03.504436Z",
     "start_time": "2022-06-16T06:36:03.496855Z"
    }
   },
   "outputs": [
    {
     "data": {
      "text/plain": [
       "product_id      187\n",
       "style_id         28\n",
       "color_id         37\n",
       "product_name     20\n",
       "color_name       38\n",
       "fit               5\n",
       "dtype: int64"
      ]
     },
     "execution_count": 18,
     "metadata": {},
     "output_type": "execute_result"
    }
   ],
   "source": [
    "cat_attributes.nunique()"
   ]
  },
  {
   "cell_type": "markdown",
   "id": "158b016c",
   "metadata": {},
   "source": [
    "## 2.0 Data Visualization"
   ]
  },
  {
   "cell_type": "code",
   "execution_count": 19,
   "id": "32161aca",
   "metadata": {
    "ExecuteTime": {
     "end_time": "2022-06-16T06:36:03.515246Z",
     "start_time": "2022-06-16T06:36:03.506568Z"
    }
   },
   "outputs": [],
   "source": [
    "df02 = df01.drop_duplicates()"
   ]
  },
  {
   "cell_type": "markdown",
   "id": "af033439",
   "metadata": {
    "tags": []
   },
   "source": [
    "### 2.1 Product x Price"
   ]
  },
  {
   "cell_type": "code",
   "execution_count": 20,
   "id": "03eaf002",
   "metadata": {
    "ExecuteTime": {
     "end_time": "2022-06-16T06:36:03.888796Z",
     "start_time": "2022-06-16T06:36:03.518138Z"
    }
   },
   "outputs": [
    {
     "data": {
      "image/png": "[encoded data removed]",
      "text/plain": [
       "<Figure size 1800x864 with 1 Axes>"
      ]
     },
     "metadata": {},
     "output_type": "display_data"
    }
   ],
   "source": [
    "aux1 = df02.groupby('product_name')['product_price'].median().reset_index().sort_values('product_price', ascending=False)\n",
    "sns.barplot( x='product_price', y='product_name', data=aux1);"
   ]
  },
  {
   "cell_type": "code",
   "execution_count": 21,
   "id": "a3488407-a8ba-4296-80eb-6266b3a1f4e6",
   "metadata": {},
   "outputs": [
    {
     "data": {
      "image/png": "[encoded data removed]",
      "text/plain": [
       "<Figure size 1800x864 with 1 Axes>"
      ]
     },
     "metadata": {},
     "output_type": "display_data"
    }
   ],
   "source": [
    "aux2 = df02.groupby('product_name')['product_price'].mean().reset_index().sort_values('product_price', ascending=False)\n",
    "sns.barplot( x='product_price', y='product_name', data=aux2);"
   ]
  },
  {
   "cell_type": "code",
   "execution_count": 22,
   "id": "e07983bb-9726-48ae-8fe7-0625c2a07732",
   "metadata": {},
   "outputs": [
    {
     "data": {
      "text/html": [
       "<div>\n",
       "<style scoped>\n",
       "    .dataframe tbody tr th:only-of-type {\n",
       "        vertical-align: middle;\n",
       "    }\n",
       "\n",
       "    .dataframe tbody tr th {\n",
       "        vertical-align: top;\n",
       "    }\n",
       "\n",
       "    .dataframe thead th {\n",
       "        text-align: right;\n",
       "    }\n",
       "</style>\n",
       "<table border=\"1\" class=\"dataframe\">\n",
       "  <thead>\n",
       "    <tr style=\"text-align: right;\">\n",
       "      <th></th>\n",
       "      <th>product_name</th>\n",
       "      <th>median</th>\n",
       "      <th>mean</th>\n",
       "    </tr>\n",
       "  </thead>\n",
       "  <tbody>\n",
       "    <tr>\n",
       "      <th>0</th>\n",
       "      <td>hybrid_regular_tapered_joggers</td>\n",
       "      <td>39.99</td>\n",
       "      <td>37.275714</td>\n",
       "    </tr>\n",
       "    <tr>\n",
       "      <th>1</th>\n",
       "      <td>loose_carpenter_jeans</td>\n",
       "      <td>39.99</td>\n",
       "      <td>39.990000</td>\n",
       "    </tr>\n",
       "    <tr>\n",
       "      <th>2</th>\n",
       "      <td>regular_bootcut_jeans</td>\n",
       "      <td>39.99</td>\n",
       "      <td>39.990000</td>\n",
       "    </tr>\n",
       "    <tr>\n",
       "      <th>3</th>\n",
       "      <td>hybrid_regular_denim_joggers</td>\n",
       "      <td>39.99</td>\n",
       "      <td>34.323333</td>\n",
       "    </tr>\n",
       "    <tr>\n",
       "      <th>4</th>\n",
       "      <td>freefit®_slim_jeans</td>\n",
       "      <td>34.99</td>\n",
       "      <td>38.990000</td>\n",
       "    </tr>\n",
       "    <tr>\n",
       "      <th>5</th>\n",
       "      <td>slim_tapered_jeans</td>\n",
       "      <td>34.99</td>\n",
       "      <td>32.561429</td>\n",
       "    </tr>\n",
       "    <tr>\n",
       "      <th>6</th>\n",
       "      <td>relaxed_denim_joggers</td>\n",
       "      <td>29.99</td>\n",
       "      <td>29.990000</td>\n",
       "    </tr>\n",
       "    <tr>\n",
       "      <th>7</th>\n",
       "      <td>slim_tapered_cropped_jeans</td>\n",
       "      <td>29.99</td>\n",
       "      <td>29.990000</td>\n",
       "    </tr>\n",
       "    <tr>\n",
       "      <th>8</th>\n",
       "      <td>skinny_cropped_jeans</td>\n",
       "      <td>29.99</td>\n",
       "      <td>29.990000</td>\n",
       "    </tr>\n",
       "    <tr>\n",
       "      <th>9</th>\n",
       "      <td>relaxed_jeans</td>\n",
       "      <td>29.99</td>\n",
       "      <td>29.918571</td>\n",
       "    </tr>\n",
       "    <tr>\n",
       "      <th>10</th>\n",
       "      <td>loose_jeans</td>\n",
       "      <td>29.99</td>\n",
       "      <td>29.990000</td>\n",
       "    </tr>\n",
       "    <tr>\n",
       "      <th>11</th>\n",
       "      <td>relaxed_tapered_pull-on_jeans</td>\n",
       "      <td>26.49</td>\n",
       "      <td>24.490000</td>\n",
       "    </tr>\n",
       "    <tr>\n",
       "      <th>12</th>\n",
       "      <td>relaxed_pull-on_jeans</td>\n",
       "      <td>24.99</td>\n",
       "      <td>24.990000</td>\n",
       "    </tr>\n",
       "    <tr>\n",
       "      <th>13</th>\n",
       "      <td>trashed_skinny_jeans</td>\n",
       "      <td>24.99</td>\n",
       "      <td>28.990000</td>\n",
       "    </tr>\n",
       "    <tr>\n",
       "      <th>14</th>\n",
       "      <td>slim_straight_cropped_jeans</td>\n",
       "      <td>20.49</td>\n",
       "      <td>20.490000</td>\n",
       "    </tr>\n",
       "    <tr>\n",
       "      <th>15</th>\n",
       "      <td>regular_tapered_crop_jeans</td>\n",
       "      <td>19.99</td>\n",
       "      <td>18.490000</td>\n",
       "    </tr>\n",
       "    <tr>\n",
       "      <th>16</th>\n",
       "      <td>regular_jeans</td>\n",
       "      <td>19.99</td>\n",
       "      <td>22.163913</td>\n",
       "    </tr>\n",
       "    <tr>\n",
       "      <th>17</th>\n",
       "      <td>skinny_jeans</td>\n",
       "      <td>19.99</td>\n",
       "      <td>24.374615</td>\n",
       "    </tr>\n",
       "    <tr>\n",
       "      <th>18</th>\n",
       "      <td>slim_jeans</td>\n",
       "      <td>19.99</td>\n",
       "      <td>19.929394</td>\n",
       "    </tr>\n",
       "    <tr>\n",
       "      <th>19</th>\n",
       "      <td>regular_denim_joggers</td>\n",
       "      <td>17.99</td>\n",
       "      <td>21.990000</td>\n",
       "    </tr>\n",
       "  </tbody>\n",
       "</table>\n",
       "</div>"
      ],
      "text/plain": [
       "                      product_name  median       mean\n",
       "0   hybrid_regular_tapered_joggers   39.99  37.275714\n",
       "1            loose_carpenter_jeans   39.99  39.990000\n",
       "2            regular_bootcut_jeans   39.99  39.990000\n",
       "3     hybrid_regular_denim_joggers   39.99  34.323333\n",
       "4              freefit®_slim_jeans   34.99  38.990000\n",
       "5               slim_tapered_jeans   34.99  32.561429\n",
       "6            relaxed_denim_joggers   29.99  29.990000\n",
       "7       slim_tapered_cropped_jeans   29.99  29.990000\n",
       "8             skinny_cropped_jeans   29.99  29.990000\n",
       "9                    relaxed_jeans   29.99  29.918571\n",
       "10                     loose_jeans   29.99  29.990000\n",
       "11   relaxed_tapered_pull-on_jeans   26.49  24.490000\n",
       "12           relaxed_pull-on_jeans   24.99  24.990000\n",
       "13            trashed_skinny_jeans   24.99  28.990000\n",
       "14     slim_straight_cropped_jeans   20.49  20.490000\n",
       "15      regular_tapered_crop_jeans   19.99  18.490000\n",
       "16                   regular_jeans   19.99  22.163913\n",
       "17                    skinny_jeans   19.99  24.374615\n",
       "18                      slim_jeans   19.99  19.929394\n",
       "19           regular_denim_joggers   17.99  21.990000"
      ]
     },
     "execution_count": 22,
     "metadata": {},
     "output_type": "execute_result"
    }
   ],
   "source": [
    "aux1.columns = ['product_name', 'median']\n",
    "aux2.columns = ['product_name', 'mean']\n",
    "\n",
    "table1 = pd.merge(aux1, aux2)\n",
    "table1"
   ]
  },
  {
   "cell_type": "markdown",
   "id": "c2c52380",
   "metadata": {
    "tags": []
   },
   "source": [
    "### 2.2 Product x Number of products"
   ]
  },
  {
   "cell_type": "code",
   "execution_count": 23,
   "id": "1c71d71f",
   "metadata": {
    "ExecuteTime": {
     "end_time": "2022-06-16T06:36:04.178650Z",
     "start_time": "2022-06-16T06:36:03.892606Z"
    }
   },
   "outputs": [
    {
     "data": {
      "image/png": "[encoded data removed]",
      "text/plain": [
       "<Figure size 1800x864 with 1 Axes>"
      ]
     },
     "metadata": {},
     "output_type": "display_data"
    }
   ],
   "source": [
    "aux3 = pd.DataFrame(df02['product_name'].value_counts()).reset_index()\n",
    "aux3.columns = ['product_name', 'number']\n",
    "sns.barplot(x='number', y='product_name', data=aux3);"
   ]
  },
  {
   "cell_type": "markdown",
   "id": "081b78c5",
   "metadata": {},
   "source": [
    "## 2.3 Colors X Numbers"
   ]
  },
  {
   "cell_type": "code",
   "execution_count": 24,
   "id": "bbd01a28",
   "metadata": {
    "ExecuteTime": {
     "end_time": "2022-06-16T06:36:04.409417Z",
     "start_time": "2022-06-16T06:36:04.185444Z"
    },
    "scrolled": true,
    "tags": []
   },
   "outputs": [
    {
     "data": {
      "image/png": "[encoded data removed]",
      "text/plain": [
       "<Figure size 1800x864 with 1 Axes>"
      ]
     },
     "metadata": {},
     "output_type": "display_data"
    }
   ],
   "source": [
    "aux4 = pd.DataFrame(df02['color_name'].value_counts()).reset_index()\n",
    "aux4.columns = ['color_name', 'number']\n",
    "sns.barplot(x='number', y='color_name', data=aux4);"
   ]
  },
  {
   "cell_type": "code",
   "execution_count": null,
   "id": "df08a18c-ea16-405a-bd42-418ff956ced1",
   "metadata": {},
   "outputs": [],
   "source": []
  },
  {
   "cell_type": "markdown",
   "id": "dcd2e7de-2258-498a-b783-ae50c4cc1fe5",
   "metadata": {},
   "source": [
    "# DASHBOARD StarJeans"
   ]
  },
  {
   "cell_type": "code",
   "execution_count": 25,
   "id": "bc052a3b-eb30-4fe2-acaf-8162fd25ce31",
   "metadata": {},
   "outputs": [
    {
     "data": {
      "application/javascript": [
       "(function(root) {\n",
       "  function now() {\n",
       "    return new Date();\n",
       "  }\n",
       "\n",
       "  var force = true;\n",
       "\n",
       "  if (typeof root._bokeh_onload_callbacks === \"undefined\" || force === true) {\n",
       "    root._bokeh_onload_callbacks = [];\n",
       "    root._bokeh_is_loading = undefined;\n",
       "  }\n",
       "\n",
       "  if (typeof (root._bokeh_timeout) === \"undefined\" || force === true) {\n",
       "    root._bokeh_timeout = Date.now() + 5000;\n",
       "    root._bokeh_failed_load = false;\n",
       "  }\n",
       "\n",
       "  function run_callbacks() {\n",
       "    try {\n",
       "      root._bokeh_onload_callbacks.forEach(function(callback) {\n",
       "        if (callback != null)\n",
       "          callback();\n",
       "      });\n",
       "    } finally {\n",
       "      delete root._bokeh_onload_callbacks\n",
       "    }\n",
       "    console.debug(\"Bokeh: all callbacks have finished\");\n",
       "  }\n",
       "\n",
       "  function load_libs(css_urls, js_urls, js_modules, callback) {\n",
       "    if (css_urls == null) css_urls = [];\n",
       "    if (js_urls == null) js_urls = [];\n",
       "    if (js_modules == null) js_modules = [];\n",
       "\n",
       "    root._bokeh_onload_callbacks.push(callback);\n",
       "    if (root._bokeh_is_loading > 0) {\n",
       "      console.debug(\"Bokeh: BokehJS is being loaded, scheduling callback at\", now());\n",
       "      return null;\n",
       "    }\n",
       "    if (js_urls.length === 0 && js_modules.length === 0) {\n",
       "      run_callbacks();\n",
       "      return null;\n",
       "    }\n",
       "    console.debug(\"Bokeh: BokehJS not loaded, scheduling load and callback at\", now());\n",
       "\n",
       "    function on_load() {\n",
       "      root._bokeh_is_loading--;\n",
       "      if (root._bokeh_is_loading === 0) {\n",
       "        console.debug(\"Bokeh: all BokehJS libraries/stylesheets loaded\");\n",
       "        run_callbacks()\n",
       "      }\n",
       "    }\n",
       "\n",
       "    function on_error() {\n",
       "      console.error(\"failed to load \" + url);\n",
       "    }\n",
       "\n",
       "    for (var i = 0; i < css_urls.length; i++) {\n",
       "      var url = css_urls[i];\n",
       "      const element = document.createElement(\"link\");\n",
       "      element.onload = on_load;\n",
       "      element.onerror = on_error;\n",
       "      element.rel = \"stylesheet\";\n",
       "      element.type = \"text/css\";\n",
       "      element.href = url;\n",
       "      console.debug(\"Bokeh: injecting link tag for BokehJS stylesheet: \", url);\n",
       "      document.body.appendChild(element);\n",
       "    }\n",
       "\n",
       "    var skip = [];\n",
       "    if (window.requirejs) {\n",
       "      window.requirejs.config({'packages': {}, 'paths': {'tabulator': 'https://unpkg.com/tabulator-tables@4.9.3/dist/js/tabulator', 'moment': 'https://cdn.jsdelivr.net/npm/luxon/build/global/luxon.min', 'gridstack': 'https://cdn.jsdelivr.net/npm/gridstack@4.2.5/dist/gridstack-h5', 'notyf': 'https://cdn.jsdelivr.net/npm/notyf@3/notyf.min'}, 'shim': {'gridstack': {'exports': 'GridStack'}}});\n",
       "      require([\"tabulator\"], function(Tabulator) {\n",
       "\twindow.Tabulator = Tabulator\n",
       "\ton_load()\n",
       "      })\n",
       "      require([\"moment\"], function(moment) {\n",
       "\twindow.moment = moment\n",
       "\ton_load()\n",
       "      })\n",
       "      require([\"gridstack\"], function(GridStack) {\n",
       "\twindow.GridStack = GridStack\n",
       "\ton_load()\n",
       "      })\n",
       "      require([\"notyf\"], function() {\n",
       "\ton_load()\n",
       "      })\n",
       "      root._bokeh_is_loading = css_urls.length + 4;\n",
       "    } else {\n",
       "      root._bokeh_is_loading = css_urls.length + js_urls.length + js_modules.length;\n",
       "    }    if (((window['Tabulator'] !== undefined) && (!(window['Tabulator'] instanceof HTMLElement))) || window.requirejs) {\n",
       "      var urls = ['https://unpkg.com/tabulator-tables@4.9.3/dist/js/tabulator.js'];\n",
       "      for (var i = 0; i < urls.length; i++) {\n",
       "        skip.push(urls[i])\n",
       "      }\n",
       "    }    if (((window['moment'] !== undefined) && (!(window['moment'] instanceof HTMLElement))) || window.requirejs) {\n",
       "      var urls = ['https://cdn.jsdelivr.net/npm/luxon/build/global/luxon.min.js'];\n",
       "      for (var i = 0; i < urls.length; i++) {\n",
       "        skip.push(urls[i])\n",
       "      }\n",
       "    }    if (((window['GridStack'] !== undefined) && (!(window['GridStack'] instanceof HTMLElement))) || window.requirejs) {\n",
       "      var urls = ['https://cdn.jsdelivr.net/npm/gridstack@4.2.5/dist/gridstack-h5.js'];\n",
       "      for (var i = 0; i < urls.length; i++) {\n",
       "        skip.push(urls[i])\n",
       "      }\n",
       "    }    if (((window['Notyf'] !== undefined) && (!(window['Notyf'] instanceof HTMLElement))) || window.requirejs) {\n",
       "      var urls = ['https://cdn.jsdelivr.net/npm/notyf@3/notyf.min.js'];\n",
       "      for (var i = 0; i < urls.length; i++) {\n",
       "        skip.push(urls[i])\n",
       "      }\n",
       "    }    for (var i = 0; i < js_urls.length; i++) {\n",
       "      var url = js_urls[i];\n",
       "      if (skip.indexOf(url) >= 0) {\n",
       "\tif (!window.requirejs) {\n",
       "\t  on_load();\n",
       "\t}\n",
       "\tcontinue;\n",
       "      }\n",
       "      var element = document.createElement('script');\n",
       "      element.onload = on_load;\n",
       "      element.onerror = on_error;\n",
       "      element.async = false;\n",
       "      element.src = url;\n",
       "      console.debug(\"Bokeh: injecting script tag for BokehJS library: \", url);\n",
       "      document.head.appendChild(element);\n",
       "    }\n",
       "    for (var i = 0; i < js_modules.length; i++) {\n",
       "      var url = js_modules[i];\n",
       "      if (skip.indexOf(url) >= 0) {\n",
       "\tif (!window.requirejs) {\n",
       "\t  on_load();\n",
       "\t}\n",
       "\tcontinue;\n",
       "      }\n",
       "      var element = document.createElement('script');\n",
       "      element.onload = on_load;\n",
       "      element.onerror = on_error;\n",
       "      element.async = false;\n",
       "      element.src = url;\n",
       "      element.type = \"module\";\n",
       "      console.debug(\"Bokeh: injecting script tag for BokehJS library: \", url);\n",
       "      document.head.appendChild(element);\n",
       "    }\n",
       "    if (!js_urls.length && !js_modules.length) {\n",
       "      on_load()\n",
       "    }\n",
       "  };\n",
       "\n",
       "  function inject_raw_css(css) {\n",
       "    const element = document.createElement(\"style\");\n",
       "    element.appendChild(document.createTextNode(css));\n",
       "    document.body.appendChild(element);\n",
       "  }\n",
       "\n",
       "  var js_urls = [\"https://unpkg.com/tabulator-tables@4.9.3/dist/js/tabulator.js\", \"https://cdn.jsdelivr.net/npm/luxon/build/global/luxon.min.js\", \"https://cdn.bokeh.org/bokeh/release/bokeh-2.4.3.min.js\", \"https://cdn.bokeh.org/bokeh/release/bokeh-gl-2.4.3.min.js\", \"https://cdn.bokeh.org/bokeh/release/bokeh-widgets-2.4.3.min.js\", \"https://cdn.bokeh.org/bokeh/release/bokeh-tables-2.4.3.min.js\", \"https://cdn.bokeh.org/bokeh/release/bokeh-mathjax-2.4.3.min.js\", \"https://cdn.jsdelivr.net/npm/notyf@3/notyf.min.js\", \"https://unpkg.com/@holoviz/panel@0.13.1/dist/panel.min.js\"];\n",
       "  var js_modules = [];\n",
       "  var css_urls = [\"https://unpkg.com/tabulator-tables@4.9.3/dist/css/tabulator_simple.min.css\", \"https://cdn.jsdelivr.net/npm/notyf@3/notyf.min.css\", \"https://cdnjs.cloudflare.com/ajax/libs/font-awesome/5.15.1/css/all.min.css\", \"https://unpkg.com/@holoviz/panel@0.13.1/dist/css/debugger.css\", \"https://unpkg.com/@holoviz/panel@0.13.1/dist/css/dataframe.css\", \"https://unpkg.com/@holoviz/panel@0.13.1/dist/css/loading.css\", \"https://unpkg.com/@holoviz/panel@0.13.1/dist/css/markdown.css\", \"https://unpkg.com/@holoviz/panel@0.13.1/dist/css/widgets.css\", \"https://unpkg.com/@holoviz/panel@0.13.1/dist/css/json.css\", \"https://unpkg.com/@holoviz/panel@0.13.1/dist/css/alerts.css\", \"https://unpkg.com/@holoviz/panel@0.13.1/dist/css/card.css\"];\n",
       "  var inline_js = [    function(Bokeh) {\n",
       "      inject_raw_css(\"\\n    .bk.pn-loading.arcs:before {\\n      background-image: url(\\\"data:image/svg+xml;base64,PHN2ZyB4bWxucz0iaHR0cDovL3d3dy53My5vcmcvMjAwMC9zdmciIHhtbG5zOnhsaW5rPSJodHRwOi8vd3d3LnczLm9yZy8xOTk5L3hsaW5rIiBzdHlsZT0ibWFyZ2luOiBhdXRvOyBiYWNrZ3JvdW5kOiBub25lOyBkaXNwbGF5OiBibG9jazsgc2hhcGUtcmVuZGVyaW5nOiBhdXRvOyIgdmlld0JveD0iMCAwIDEwMCAxMDAiIHByZXNlcnZlQXNwZWN0UmF0aW89InhNaWRZTWlkIj4gIDxjaXJjbGUgY3g9IjUwIiBjeT0iNTAiIHI9IjMyIiBzdHJva2Utd2lkdGg9IjgiIHN0cm9rZT0iI2MzYzNjMyIgc3Ryb2tlLWRhc2hhcnJheT0iNTAuMjY1NDgyNDU3NDM2NjkgNTAuMjY1NDgyNDU3NDM2NjkiIGZpbGw9Im5vbmUiIHN0cm9rZS1saW5lY2FwPSJyb3VuZCI+ICAgIDxhbmltYXRlVHJhbnNmb3JtIGF0dHJpYnV0ZU5hbWU9InRyYW5zZm9ybSIgdHlwZT0icm90YXRlIiByZXBlYXRDb3VudD0iaW5kZWZpbml0ZSIgZHVyPSIxcyIga2V5VGltZXM9IjA7MSIgdmFsdWVzPSIwIDUwIDUwOzM2MCA1MCA1MCI+PC9hbmltYXRlVHJhbnNmb3JtPiAgPC9jaXJjbGU+PC9zdmc+\\\");\\n      background-size: auto calc(min(50%, 400px));\\n    }\\n    \");\n",
       "    },    function(Bokeh) {\n",
       "      Bokeh.set_log_level(\"info\");\n",
       "    },\n",
       "function(Bokeh) {} // ensure no trailing comma for IE\n",
       "  ];\n",
       "\n",
       "  function run_inline_js() {\n",
       "    if ((root.Bokeh !== undefined) || (force === true)) {\n",
       "      for (var i = 0; i < inline_js.length; i++) {\n",
       "        inline_js[i].call(root, root.Bokeh);\n",
       "      }} else if (Date.now() < root._bokeh_timeout) {\n",
       "      setTimeout(run_inline_js, 100);\n",
       "    } else if (!root._bokeh_failed_load) {\n",
       "      console.log(\"Bokeh: BokehJS failed to load within specified timeout.\");\n",
       "      root._bokeh_failed_load = true;\n",
       "    }\n",
       "  }\n",
       "\n",
       "  if (root._bokeh_is_loading === 0) {\n",
       "    console.debug(\"Bokeh: BokehJS loaded, going straight to plotting\");\n",
       "    run_inline_js();\n",
       "  } else {\n",
       "    load_libs(css_urls, js_urls, js_modules, function() {\n",
       "      console.debug(\"Bokeh: BokehJS plotting callback run at\", now());\n",
       "      run_inline_js();\n",
       "    });\n",
       "  }\n",
       "}(window));"
      ],
      "application/vnd.holoviews_load.v0+json": "(function(root) {\n  function now() {\n    return new Date();\n  }\n\n  var force = true;\n\n  if (typeof root._bokeh_onload_callbacks === \"undefined\" || force === true) {\n    root._bokeh_onload_callbacks = [];\n    root._bokeh_is_loading = undefined;\n  }\n\n  if (typeof (root._bokeh_timeout) === \"undefined\" || force === true) {\n    root._bokeh_timeout = Date.now() + 5000;\n    root._bokeh_failed_load = false;\n  }\n\n  function run_callbacks() {\n    try {\n      root._bokeh_onload_callbacks.forEach(function(callback) {\n        if (callback != null)\n          callback();\n      });\n    } finally {\n      delete root._bokeh_onload_callbacks\n    }\n    console.debug(\"Bokeh: all callbacks have finished\");\n  }\n\n  function load_libs(css_urls, js_urls, js_modules, callback) {\n    if (css_urls == null) css_urls = [];\n    if (js_urls == null) js_urls = [];\n    if (js_modules == null) js_modules = [];\n\n    root._bokeh_onload_callbacks.push(callback);\n    if (root._bokeh_is_loading > 0) {\n      console.debug(\"Bokeh: BokehJS is being loaded, scheduling callback at\", now());\n      return null;\n    }\n    if (js_urls.length === 0 && js_modules.length === 0) {\n      run_callbacks();\n      return null;\n    }\n    console.debug(\"Bokeh: BokehJS not loaded, scheduling load and callback at\", now());\n\n    function on_load() {\n      root._bokeh_is_loading--;\n      if (root._bokeh_is_loading === 0) {\n        console.debug(\"Bokeh: all BokehJS libraries/stylesheets loaded\");\n        run_callbacks()\n      }\n    }\n\n    function on_error() {\n      console.error(\"failed to load \" + url);\n    }\n\n    for (var i = 0; i < css_urls.length; i++) {\n      var url = css_urls[i];\n      const element = document.createElement(\"link\");\n      element.onload = on_load;\n      element.onerror = on_error;\n      element.rel = \"stylesheet\";\n      element.type = \"text/css\";\n      element.href = url;\n      console.debug(\"Bokeh: injecting link tag for BokehJS stylesheet: \", url);\n      document.body.appendChild(element);\n    }\n\n    var skip = [];\n    if (window.requirejs) {\n      window.requirejs.config({'packages': {}, 'paths': {'tabulator': 'https://unpkg.com/tabulator-tables@4.9.3/dist/js/tabulator', 'moment': 'https://cdn.jsdelivr.net/npm/luxon/build/global/luxon.min', 'gridstack': 'https://cdn.jsdelivr.net/npm/gridstack@4.2.5/dist/gridstack-h5', 'notyf': 'https://cdn.jsdelivr.net/npm/notyf@3/notyf.min'}, 'shim': {'gridstack': {'exports': 'GridStack'}}});\n      require([\"tabulator\"], function(Tabulator) {\n\twindow.Tabulator = Tabulator\n\ton_load()\n      })\n      require([\"moment\"], function(moment) {\n\twindow.moment = moment\n\ton_load()\n      })\n      require([\"gridstack\"], function(GridStack) {\n\twindow.GridStack = GridStack\n\ton_load()\n      })\n      require([\"notyf\"], function() {\n\ton_load()\n      })\n      root._bokeh_is_loading = css_urls.length + 4;\n    } else {\n      root._bokeh_is_loading = css_urls.length + js_urls.length + js_modules.length;\n    }    if (((window['Tabulator'] !== undefined) && (!(window['Tabulator'] instanceof HTMLElement))) || window.requirejs) {\n      var urls = ['https://unpkg.com/tabulator-tables@4.9.3/dist/js/tabulator.js'];\n      for (var i = 0; i < urls.length; i++) {\n        skip.push(urls[i])\n      }\n    }    if (((window['moment'] !== undefined) && (!(window['moment'] instanceof HTMLElement))) || window.requirejs) {\n      var urls = ['https://cdn.jsdelivr.net/npm/luxon/build/global/luxon.min.js'];\n      for (var i = 0; i < urls.length; i++) {\n        skip.push(urls[i])\n      }\n    }    if (((window['GridStack'] !== undefined) && (!(window['GridStack'] instanceof HTMLElement))) || window.requirejs) {\n      var urls = ['https://cdn.jsdelivr.net/npm/gridstack@4.2.5/dist/gridstack-h5.js'];\n      for (var i = 0; i < urls.length; i++) {\n        skip.push(urls[i])\n      }\n    }    if (((window['Notyf'] !== undefined) && (!(window['Notyf'] instanceof HTMLElement))) || window.requirejs) {\n      var urls = ['https://cdn.jsdelivr.net/npm/notyf@3/notyf.min.js'];\n      for (var i = 0; i < urls.length; i++) {\n        skip.push(urls[i])\n      }\n    }    for (var i = 0; i < js_urls.length; i++) {\n      var url = js_urls[i];\n      if (skip.indexOf(url) >= 0) {\n\tif (!window.requirejs) {\n\t  on_load();\n\t}\n\tcontinue;\n      }\n      var element = document.createElement('script');\n      element.onload = on_load;\n      element.onerror = on_error;\n      element.async = false;\n      element.src = url;\n      console.debug(\"Bokeh: injecting script tag for BokehJS library: \", url);\n      document.head.appendChild(element);\n    }\n    for (var i = 0; i < js_modules.length; i++) {\n      var url = js_modules[i];\n      if (skip.indexOf(url) >= 0) {\n\tif (!window.requirejs) {\n\t  on_load();\n\t}\n\tcontinue;\n      }\n      var element = document.createElement('script');\n      element.onload = on_load;\n      element.onerror = on_error;\n      element.async = false;\n      element.src = url;\n      element.type = \"module\";\n      console.debug(\"Bokeh: injecting script tag for BokehJS library: \", url);\n      document.head.appendChild(element);\n    }\n    if (!js_urls.length && !js_modules.length) {\n      on_load()\n    }\n  };\n\n  function inject_raw_css(css) {\n    const element = document.createElement(\"style\");\n    element.appendChild(document.createTextNode(css));\n    document.body.appendChild(element);\n  }\n\n  var js_urls = [\"https://unpkg.com/tabulator-tables@4.9.3/dist/js/tabulator.js\", \"https://cdn.jsdelivr.net/npm/luxon/build/global/luxon.min.js\", \"https://cdn.bokeh.org/bokeh/release/bokeh-2.4.3.min.js\", \"https://cdn.bokeh.org/bokeh/release/bokeh-gl-2.4.3.min.js\", \"https://cdn.bokeh.org/bokeh/release/bokeh-widgets-2.4.3.min.js\", \"https://cdn.bokeh.org/bokeh/release/bokeh-tables-2.4.3.min.js\", \"https://cdn.bokeh.org/bokeh/release/bokeh-mathjax-2.4.3.min.js\", \"https://cdn.jsdelivr.net/npm/notyf@3/notyf.min.js\", \"https://unpkg.com/@holoviz/panel@0.13.1/dist/panel.min.js\"];\n  var js_modules = [];\n  var css_urls = [\"https://unpkg.com/tabulator-tables@4.9.3/dist/css/tabulator_simple.min.css\", \"https://cdn.jsdelivr.net/npm/notyf@3/notyf.min.css\", \"https://cdnjs.cloudflare.com/ajax/libs/font-awesome/5.15.1/css/all.min.css\", \"https://unpkg.com/@holoviz/panel@0.13.1/dist/css/debugger.css\", \"https://unpkg.com/@holoviz/panel@0.13.1/dist/css/dataframe.css\", \"https://unpkg.com/@holoviz/panel@0.13.1/dist/css/loading.css\", \"https://unpkg.com/@holoviz/panel@0.13.1/dist/css/markdown.css\", \"https://unpkg.com/@holoviz/panel@0.13.1/dist/css/widgets.css\", \"https://unpkg.com/@holoviz/panel@0.13.1/dist/css/json.css\", \"https://unpkg.com/@holoviz/panel@0.13.1/dist/css/alerts.css\", \"https://unpkg.com/@holoviz/panel@0.13.1/dist/css/card.css\"];\n  var inline_js = [    function(Bokeh) {\n      inject_raw_css(\"\\n    .bk.pn-loading.arcs:before {\\n      background-image: url(\\\"data:image/svg+xml;base64,PHN2ZyB4bWxucz0iaHR0cDovL3d3dy53My5vcmcvMjAwMC9zdmciIHhtbG5zOnhsaW5rPSJodHRwOi8vd3d3LnczLm9yZy8xOTk5L3hsaW5rIiBzdHlsZT0ibWFyZ2luOiBhdXRvOyBiYWNrZ3JvdW5kOiBub25lOyBkaXNwbGF5OiBibG9jazsgc2hhcGUtcmVuZGVyaW5nOiBhdXRvOyIgdmlld0JveD0iMCAwIDEwMCAxMDAiIHByZXNlcnZlQXNwZWN0UmF0aW89InhNaWRZTWlkIj4gIDxjaXJjbGUgY3g9IjUwIiBjeT0iNTAiIHI9IjMyIiBzdHJva2Utd2lkdGg9IjgiIHN0cm9rZT0iI2MzYzNjMyIgc3Ryb2tlLWRhc2hhcnJheT0iNTAuMjY1NDgyNDU3NDM2NjkgNTAuMjY1NDgyNDU3NDM2NjkiIGZpbGw9Im5vbmUiIHN0cm9rZS1saW5lY2FwPSJyb3VuZCI+ICAgIDxhbmltYXRlVHJhbnNmb3JtIGF0dHJpYnV0ZU5hbWU9InRyYW5zZm9ybSIgdHlwZT0icm90YXRlIiByZXBlYXRDb3VudD0iaW5kZWZpbml0ZSIgZHVyPSIxcyIga2V5VGltZXM9IjA7MSIgdmFsdWVzPSIwIDUwIDUwOzM2MCA1MCA1MCI+PC9hbmltYXRlVHJhbnNmb3JtPiAgPC9jaXJjbGU+PC9zdmc+\\\");\\n      background-size: auto calc(min(50%, 400px));\\n    }\\n    \");\n    },    function(Bokeh) {\n      Bokeh.set_log_level(\"info\");\n    },\nfunction(Bokeh) {} // ensure no trailing comma for IE\n  ];\n\n  function run_inline_js() {\n    if ((root.Bokeh !== undefined) || (force === true)) {\n      for (var i = 0; i < inline_js.length; i++) {\n        inline_js[i].call(root, root.Bokeh);\n      }} else if (Date.now() < root._bokeh_timeout) {\n      setTimeout(run_inline_js, 100);\n    } else if (!root._bokeh_failed_load) {\n      console.log(\"Bokeh: BokehJS failed to load within specified timeout.\");\n      root._bokeh_failed_load = true;\n    }\n  }\n\n  if (root._bokeh_is_loading === 0) {\n    console.debug(\"Bokeh: BokehJS loaded, going straight to plotting\");\n    run_inline_js();\n  } else {\n    load_libs(css_urls, js_urls, js_modules, function() {\n      console.debug(\"Bokeh: BokehJS plotting callback run at\", now());\n      run_inline_js();\n    });\n  }\n}(window));"
     },
     "metadata": {},
     "output_type": "display_data"
    },
    {
     "data": {
      "application/javascript": [
       "\n",
       "if ((window.PyViz === undefined) || (window.PyViz instanceof HTMLElement)) {\n",
       "  window.PyViz = {comms: {}, comm_status:{}, kernels:{}, receivers: {}, plot_index: []}\n",
       "}\n",
       "\n",
       "\n",
       "    function JupyterCommManager() {\n",
       "    }\n",
       "\n",
       "    JupyterCommManager.prototype.register_target = function(plot_id, comm_id, msg_handler) {\n",
       "      if (window.comm_manager || ((window.Jupyter !== undefined) && (Jupyter.notebook.kernel != null))) {\n",
       "        var comm_manager = window.comm_manager || Jupyter.notebook.kernel.comm_manager;\n",
       "        comm_manager.register_target(comm_id, function(comm) {\n",
       "          comm.on_msg(msg_handler);\n",
       "        });\n",
       "      } else if ((plot_id in window.PyViz.kernels) && (window.PyViz.kernels[plot_id])) {\n",
       "        window.PyViz.kernels[plot_id].registerCommTarget(comm_id, function(comm) {\n",
       "          comm.onMsg = msg_handler;\n",
       "        });\n",
       "      } else if (typeof google != 'undefined' && google.colab.kernel != null) {\n",
       "        google.colab.kernel.comms.registerTarget(comm_id, (comm) => {\n",
       "          var messages = comm.messages[Symbol.asyncIterator]();\n",
       "          function processIteratorResult(result) {\n",
       "            var message = result.value;\n",
       "            console.log(message)\n",
       "            var content = {data: message.data, comm_id};\n",
       "            var buffers = []\n",
       "            for (var buffer of message.buffers || []) {\n",
       "              buffers.push(new DataView(buffer))\n",
       "            }\n",
       "            var metadata = message.metadata || {};\n",
       "            var msg = {content, buffers, metadata}\n",
       "            msg_handler(msg);\n",
       "            return messages.next().then(processIteratorResult);\n",
       "          }\n",
       "          return messages.next().then(processIteratorResult);\n",
       "        })\n",
       "      }\n",
       "    }\n",
       "\n",
       "    JupyterCommManager.prototype.get_client_comm = function(plot_id, comm_id, msg_handler) {\n",
       "      if (comm_id in window.PyViz.comms) {\n",
       "        return window.PyViz.comms[comm_id];\n",
       "      } else if (window.comm_manager || ((window.Jupyter !== undefined) && (Jupyter.notebook.kernel != null))) {\n",
       "        var comm_manager = window.comm_manager || Jupyter.notebook.kernel.comm_manager;\n",
       "        var comm = comm_manager.new_comm(comm_id, {}, {}, {}, comm_id);\n",
       "        if (msg_handler) {\n",
       "          comm.on_msg(msg_handler);\n",
       "        }\n",
       "      } else if ((plot_id in window.PyViz.kernels) && (window.PyViz.kernels[plot_id])) {\n",
       "        var comm = window.PyViz.kernels[plot_id].connectToComm(comm_id);\n",
       "        comm.open();\n",
       "        if (msg_handler) {\n",
       "          comm.onMsg = msg_handler;\n",
       "        }\n",
       "      } else if (typeof google != 'undefined' && google.colab.kernel != null) {\n",
       "        var comm_promise = google.colab.kernel.comms.open(comm_id)\n",
       "        comm_promise.then((comm) => {\n",
       "          window.PyViz.comms[comm_id] = comm;\n",
       "          if (msg_handler) {\n",
       "            var messages = comm.messages[Symbol.asyncIterator]();\n",
       "            function processIteratorResult(result) {\n",
       "              var message = result.value;\n",
       "              var content = {data: message.data};\n",
       "              var metadata = message.metadata || {comm_id};\n",
       "              var msg = {content, metadata}\n",
       "              msg_handler(msg);\n",
       "              return messages.next().then(processIteratorResult);\n",
       "            }\n",
       "            return messages.next().then(processIteratorResult);\n",
       "          }\n",
       "        }) \n",
       "        var sendClosure = (data, metadata, buffers, disposeOnDone) => {\n",
       "          return comm_promise.then((comm) => {\n",
       "            comm.send(data, metadata, buffers, disposeOnDone);\n",
       "          });\n",
       "        };\n",
       "        var comm = {\n",
       "          send: sendClosure\n",
       "        };\n",
       "      }\n",
       "      window.PyViz.comms[comm_id] = comm;\n",
       "      return comm;\n",
       "    }\n",
       "    window.PyViz.comm_manager = new JupyterCommManager();\n",
       "    \n",
       "\n",
       "\n",
       "var JS_MIME_TYPE = 'application/javascript';\n",
       "var HTML_MIME_TYPE = 'text/html';\n",
       "var EXEC_MIME_TYPE = 'application/vnd.holoviews_exec.v0+json';\n",
       "var CLASS_NAME = 'output';\n",
       "\n",
       "/**\n",
       " * Render data to the DOM node\n",
       " */\n",
       "function render(props, node) {\n",
       "  var div = document.createElement(\"div\");\n",
       "  var script = document.createElement(\"script\");\n",
       "  node.appendChild(div);\n",
       "  node.appendChild(script);\n",
       "}\n",
       "\n",
       "/**\n",
       " * Handle when a new output is added\n",
       " */\n",
       "function handle_add_output(event, handle) {\n",
       "  var output_area = handle.output_area;\n",
       "  var output = handle.output;\n",
       "  if ((output.data == undefined) || (!output.data.hasOwnProperty(EXEC_MIME_TYPE))) {\n",
       "    return\n",
       "  }\n",
       "  var id = output.metadata[EXEC_MIME_TYPE][\"id\"];\n",
       "  var toinsert = output_area.element.find(\".\" + CLASS_NAME.split(' ')[0]);\n",
       "  if (id !== undefined) {\n",
       "    var nchildren = toinsert.length;\n",
       "    var html_node = toinsert[nchildren-1].children[0];\n",
       "    html_node.innerHTML = output.data[HTML_MIME_TYPE];\n",
       "    var scripts = [];\n",
       "    var nodelist = html_node.querySelectorAll(\"script\");\n",
       "    for (var i in nodelist) {\n",
       "      if (nodelist.hasOwnProperty(i)) {\n",
       "        scripts.push(nodelist[i])\n",
       "      }\n",
       "    }\n",
       "\n",
       "    scripts.forEach( function (oldScript) {\n",
       "      var newScript = document.createElement(\"script\");\n",
       "      var attrs = [];\n",
       "      var nodemap = oldScript.attributes;\n",
       "      for (var j in nodemap) {\n",
       "        if (nodemap.hasOwnProperty(j)) {\n",
       "          attrs.push(nodemap[j])\n",
       "        }\n",
       "      }\n",
       "      attrs.forEach(function(attr) { newScript.setAttribute(attr.name, attr.value) });\n",
       "      newScript.appendChild(document.createTextNode(oldScript.innerHTML));\n",
       "      oldScript.parentNode.replaceChild(newScript, oldScript);\n",
       "    });\n",
       "    if (JS_MIME_TYPE in output.data) {\n",
       "      toinsert[nchildren-1].children[1].textContent = output.data[JS_MIME_TYPE];\n",
       "    }\n",
       "    output_area._hv_plot_id = id;\n",
       "    if ((window.Bokeh !== undefined) && (id in Bokeh.index)) {\n",
       "      window.PyViz.plot_index[id] = Bokeh.index[id];\n",
       "    } else {\n",
       "      window.PyViz.plot_index[id] = null;\n",
       "    }\n",
       "  } else if (output.metadata[EXEC_MIME_TYPE][\"server_id\"] !== undefined) {\n",
       "    var bk_div = document.createElement(\"div\");\n",
       "    bk_div.innerHTML = output.data[HTML_MIME_TYPE];\n",
       "    var script_attrs = bk_div.children[0].attributes;\n",
       "    for (var i = 0; i < script_attrs.length; i++) {\n",
       "      toinsert[toinsert.length - 1].childNodes[1].setAttribute(script_attrs[i].name, script_attrs[i].value);\n",
       "    }\n",
       "    // store reference to server id on output_area\n",
       "    output_area._bokeh_server_id = output.metadata[EXEC_MIME_TYPE][\"server_id\"];\n",
       "  }\n",
       "}\n",
       "\n",
       "/**\n",
       " * Handle when an output is cleared or removed\n",
       " */\n",
       "function handle_clear_output(event, handle) {\n",
       "  var id = handle.cell.output_area._hv_plot_id;\n",
       "  var server_id = handle.cell.output_area._bokeh_server_id;\n",
       "  if (((id === undefined) || !(id in PyViz.plot_index)) && (server_id !== undefined)) { return; }\n",
       "  var comm = window.PyViz.comm_manager.get_client_comm(\"hv-extension-comm\", \"hv-extension-comm\", function () {});\n",
       "  if (server_id !== null) {\n",
       "    comm.send({event_type: 'server_delete', 'id': server_id});\n",
       "    return;\n",
       "  } else if (comm !== null) {\n",
       "    comm.send({event_type: 'delete', 'id': id});\n",
       "  }\n",
       "  delete PyViz.plot_index[id];\n",
       "  if ((window.Bokeh !== undefined) & (id in window.Bokeh.index)) {\n",
       "    var doc = window.Bokeh.index[id].model.document\n",
       "    doc.clear();\n",
       "    const i = window.Bokeh.documents.indexOf(doc);\n",
       "    if (i > -1) {\n",
       "      window.Bokeh.documents.splice(i, 1);\n",
       "    }\n",
       "  }\n",
       "}\n",
       "\n",
       "/**\n",
       " * Handle kernel restart event\n",
       " */\n",
       "function handle_kernel_cleanup(event, handle) {\n",
       "  delete PyViz.comms[\"hv-extension-comm\"];\n",
       "  window.PyViz.plot_index = {}\n",
       "}\n",
       "\n",
       "/**\n",
       " * Handle update_display_data messages\n",
       " */\n",
       "function handle_update_output(event, handle) {\n",
       "  handle_clear_output(event, {cell: {output_area: handle.output_area}})\n",
       "  handle_add_output(event, handle)\n",
       "}\n",
       "\n",
       "function register_renderer(events, OutputArea) {\n",
       "  function append_mime(data, metadata, element) {\n",
       "    // create a DOM node to render to\n",
       "    var toinsert = this.create_output_subarea(\n",
       "    metadata,\n",
       "    CLASS_NAME,\n",
       "    EXEC_MIME_TYPE\n",
       "    );\n",
       "    this.keyboard_manager.register_events(toinsert);\n",
       "    // Render to node\n",
       "    var props = {data: data, metadata: metadata[EXEC_MIME_TYPE]};\n",
       "    render(props, toinsert[0]);\n",
       "    element.append(toinsert);\n",
       "    return toinsert\n",
       "  }\n",
       "\n",
       "  events.on('output_added.OutputArea', handle_add_output);\n",
       "  events.on('output_updated.OutputArea', handle_update_output);\n",
       "  events.on('clear_output.CodeCell', handle_clear_output);\n",
       "  events.on('delete.Cell', handle_clear_output);\n",
       "  events.on('kernel_ready.Kernel', handle_kernel_cleanup);\n",
       "\n",
       "  OutputArea.prototype.register_mime_type(EXEC_MIME_TYPE, append_mime, {\n",
       "    safe: true,\n",
       "    index: 0\n",
       "  });\n",
       "}\n",
       "\n",
       "if (window.Jupyter !== undefined) {\n",
       "  try {\n",
       "    var events = require('base/js/events');\n",
       "    var OutputArea = require('notebook/js/outputarea').OutputArea;\n",
       "    if (OutputArea.prototype.mime_types().indexOf(EXEC_MIME_TYPE) == -1) {\n",
       "      register_renderer(events, OutputArea);\n",
       "    }\n",
       "  } catch(err) {\n",
       "  }\n",
       "}\n"
      ],
      "application/vnd.holoviews_load.v0+json": "\nif ((window.PyViz === undefined) || (window.PyViz instanceof HTMLElement)) {\n  window.PyViz = {comms: {}, comm_status:{}, kernels:{}, receivers: {}, plot_index: []}\n}\n\n\n    function JupyterCommManager() {\n    }\n\n    JupyterCommManager.prototype.register_target = function(plot_id, comm_id, msg_handler) {\n      if (window.comm_manager || ((window.Jupyter !== undefined) && (Jupyter.notebook.kernel != null))) {\n        var comm_manager = window.comm_manager || Jupyter.notebook.kernel.comm_manager;\n        comm_manager.register_target(comm_id, function(comm) {\n          comm.on_msg(msg_handler);\n        });\n      } else if ((plot_id in window.PyViz.kernels) && (window.PyViz.kernels[plot_id])) {\n        window.PyViz.kernels[plot_id].registerCommTarget(comm_id, function(comm) {\n          comm.onMsg = msg_handler;\n        });\n      } else if (typeof google != 'undefined' && google.colab.kernel != null) {\n        google.colab.kernel.comms.registerTarget(comm_id, (comm) => {\n          var messages = comm.messages[Symbol.asyncIterator]();\n          function processIteratorResult(result) {\n            var message = result.value;\n            console.log(message)\n            var content = {data: message.data, comm_id};\n            var buffers = []\n            for (var buffer of message.buffers || []) {\n              buffers.push(new DataView(buffer))\n            }\n            var metadata = message.metadata || {};\n            var msg = {content, buffers, metadata}\n            msg_handler(msg);\n            return messages.next().then(processIteratorResult);\n          }\n          return messages.next().then(processIteratorResult);\n        })\n      }\n    }\n\n    JupyterCommManager.prototype.get_client_comm = function(plot_id, comm_id, msg_handler) {\n      if (comm_id in window.PyViz.comms) {\n        return window.PyViz.comms[comm_id];\n      } else if (window.comm_manager || ((window.Jupyter !== undefined) && (Jupyter.notebook.kernel != null))) {\n        var comm_manager = window.comm_manager || Jupyter.notebook.kernel.comm_manager;\n        var comm = comm_manager.new_comm(comm_id, {}, {}, {}, comm_id);\n        if (msg_handler) {\n          comm.on_msg(msg_handler);\n        }\n      } else if ((plot_id in window.PyViz.kernels) && (window.PyViz.kernels[plot_id])) {\n        var comm = window.PyViz.kernels[plot_id].connectToComm(comm_id);\n        comm.open();\n        if (msg_handler) {\n          comm.onMsg = msg_handler;\n        }\n      } else if (typeof google != 'undefined' && google.colab.kernel != null) {\n        var comm_promise = google.colab.kernel.comms.open(comm_id)\n        comm_promise.then((comm) => {\n          window.PyViz.comms[comm_id] = comm;\n          if (msg_handler) {\n            var messages = comm.messages[Symbol.asyncIterator]();\n            function processIteratorResult(result) {\n              var message = result.value;\n              var content = {data: message.data};\n              var metadata = message.metadata || {comm_id};\n              var msg = {content, metadata}\n              msg_handler(msg);\n              return messages.next().then(processIteratorResult);\n            }\n            return messages.next().then(processIteratorResult);\n          }\n        }) \n        var sendClosure = (data, metadata, buffers, disposeOnDone) => {\n          return comm_promise.then((comm) => {\n            comm.send(data, metadata, buffers, disposeOnDone);\n          });\n        };\n        var comm = {\n          send: sendClosure\n        };\n      }\n      window.PyViz.comms[comm_id] = comm;\n      return comm;\n    }\n    window.PyViz.comm_manager = new JupyterCommManager();\n    \n\n\nvar JS_MIME_TYPE = 'application/javascript';\nvar HTML_MIME_TYPE = 'text/html';\nvar EXEC_MIME_TYPE = 'application/vnd.holoviews_exec.v0+json';\nvar CLASS_NAME = 'output';\n\n/**\n * Render data to the DOM node\n */\nfunction render(props, node) {\n  var div = document.createElement(\"div\");\n  var script = document.createElement(\"script\");\n  node.appendChild(div);\n  node.appendChild(script);\n}\n\n/**\n * Handle when a new output is added\n */\nfunction handle_add_output(event, handle) {\n  var output_area = handle.output_area;\n  var output = handle.output;\n  if ((output.data == undefined) || (!output.data.hasOwnProperty(EXEC_MIME_TYPE))) {\n    return\n  }\n  var id = output.metadata[EXEC_MIME_TYPE][\"id\"];\n  var toinsert = output_area.element.find(\".\" + CLASS_NAME.split(' ')[0]);\n  if (id !== undefined) {\n    var nchildren = toinsert.length;\n    var html_node = toinsert[nchildren-1].children[0];\n    html_node.innerHTML = output.data[HTML_MIME_TYPE];\n    var scripts = [];\n    var nodelist = html_node.querySelectorAll(\"script\");\n    for (var i in nodelist) {\n      if (nodelist.hasOwnProperty(i)) {\n        scripts.push(nodelist[i])\n      }\n    }\n\n    scripts.forEach( function (oldScript) {\n      var newScript = document.createElement(\"script\");\n      var attrs = [];\n      var nodemap = oldScript.attributes;\n      for (var j in nodemap) {\n        if (nodemap.hasOwnProperty(j)) {\n          attrs.push(nodemap[j])\n        }\n      }\n      attrs.forEach(function(attr) { newScript.setAttribute(attr.name, attr.value) });\n      newScript.appendChild(document.createTextNode(oldScript.innerHTML));\n      oldScript.parentNode.replaceChild(newScript, oldScript);\n    });\n    if (JS_MIME_TYPE in output.data) {\n      toinsert[nchildren-1].children[1].textContent = output.data[JS_MIME_TYPE];\n    }\n    output_area._hv_plot_id = id;\n    if ((window.Bokeh !== undefined) && (id in Bokeh.index)) {\n      window.PyViz.plot_index[id] = Bokeh.index[id];\n    } else {\n      window.PyViz.plot_index[id] = null;\n    }\n  } else if (output.metadata[EXEC_MIME_TYPE][\"server_id\"] !== undefined) {\n    var bk_div = document.createElement(\"div\");\n    bk_div.innerHTML = output.data[HTML_MIME_TYPE];\n    var script_attrs = bk_div.children[0].attributes;\n    for (var i = 0; i < script_attrs.length; i++) {\n      toinsert[toinsert.length - 1].childNodes[1].setAttribute(script_attrs[i].name, script_attrs[i].value);\n    }\n    // store reference to server id on output_area\n    output_area._bokeh_server_id = output.metadata[EXEC_MIME_TYPE][\"server_id\"];\n  }\n}\n\n/**\n * Handle when an output is cleared or removed\n */\nfunction handle_clear_output(event, handle) {\n  var id = handle.cell.output_area._hv_plot_id;\n  var server_id = handle.cell.output_area._bokeh_server_id;\n  if (((id === undefined) || !(id in PyViz.plot_index)) && (server_id !== undefined)) { return; }\n  var comm = window.PyViz.comm_manager.get_client_comm(\"hv-extension-comm\", \"hv-extension-comm\", function () {});\n  if (server_id !== null) {\n    comm.send({event_type: 'server_delete', 'id': server_id});\n    return;\n  } else if (comm !== null) {\n    comm.send({event_type: 'delete', 'id': id});\n  }\n  delete PyViz.plot_index[id];\n  if ((window.Bokeh !== undefined) & (id in window.Bokeh.index)) {\n    var doc = window.Bokeh.index[id].model.document\n    doc.clear();\n    const i = window.Bokeh.documents.indexOf(doc);\n    if (i > -1) {\n      window.Bokeh.documents.splice(i, 1);\n    }\n  }\n}\n\n/**\n * Handle kernel restart event\n */\nfunction handle_kernel_cleanup(event, handle) {\n  delete PyViz.comms[\"hv-extension-comm\"];\n  window.PyViz.plot_index = {}\n}\n\n/**\n * Handle update_display_data messages\n */\nfunction handle_update_output(event, handle) {\n  handle_clear_output(event, {cell: {output_area: handle.output_area}})\n  handle_add_output(event, handle)\n}\n\nfunction register_renderer(events, OutputArea) {\n  function append_mime(data, metadata, element) {\n    // create a DOM node to render to\n    var toinsert = this.create_output_subarea(\n    metadata,\n    CLASS_NAME,\n    EXEC_MIME_TYPE\n    );\n    this.keyboard_manager.register_events(toinsert);\n    // Render to node\n    var props = {data: data, metadata: metadata[EXEC_MIME_TYPE]};\n    render(props, toinsert[0]);\n    element.append(toinsert);\n    return toinsert\n  }\n\n  events.on('output_added.OutputArea', handle_add_output);\n  events.on('output_updated.OutputArea', handle_update_output);\n  events.on('clear_output.CodeCell', handle_clear_output);\n  events.on('delete.Cell', handle_clear_output);\n  events.on('kernel_ready.Kernel', handle_kernel_cleanup);\n\n  OutputArea.prototype.register_mime_type(EXEC_MIME_TYPE, append_mime, {\n    safe: true,\n    index: 0\n  });\n}\n\nif (window.Jupyter !== undefined) {\n  try {\n    var events = require('base/js/events');\n    var OutputArea = require('notebook/js/outputarea').OutputArea;\n    if (OutputArea.prototype.mime_types().indexOf(EXEC_MIME_TYPE) == -1) {\n      register_renderer(events, OutputArea);\n    }\n  } catch(err) {\n  }\n}\n"
     },
     "metadata": {},
     "output_type": "display_data"
    },
    {
     "data": {
      "text/html": [
       "<style>.bk-root, .bk-root .bk:before, .bk-root .bk:after {\n",
       "  font-family: var(--jp-ui-font-size1);\n",
       "  font-size: var(--jp-ui-font-size1);\n",
       "  color: var(--jp-ui-font-color1);\n",
       "}\n",
       "</style>"
      ]
     },
     "metadata": {},
     "output_type": "display_data"
    }
   ],
   "source": [
    "import pandas as pd\n",
    "import numpy as np\n",
    "import panel as pn\n",
    "pn.extension('tabulator')\n",
    "\n",
    "import hvplot.pandas"
   ]
  },
  {
   "cell_type": "markdown",
   "id": "af7e7607-3b93-49a6-bdf7-d91dd801fde6",
   "metadata": {},
   "source": [
    "## Pipelines"
   ]
  },
  {
   "cell_type": "code",
   "execution_count": 38,
   "id": "73d23c28-26b1-40d4-bead-1b56f9b68572",
   "metadata": {
    "tags": []
   },
   "outputs": [],
   "source": [
    "# Make DataFrame Pipeline Interactive\n",
    "\n",
    "# all dataset\n",
    "idf = df02.interactive()\n",
    "\n",
    "# Value Counts Barplot\n",
    "df03 = df02[['product_id', 'product_name', 'color_name']]\n",
    "df03.columns = ['value_counts', 'product_name', 'color_name']\n",
    "df03 = df03.reset_index( drop=True )\n",
    "idf_value_counts = df03.interactive()\n",
    "\n",
    "# Table\n",
    "df04 = pd.merge(table1, aux3)\n",
    "df04.columns = ['product_name', 'median', 'mean', 'value_counts']\n",
    "df04 = df04.sort_values(['median', 'value_counts'], ascending=False ).reset_index(drop=True )\n",
    "idf_table = df04.interactive()"
   ]
  },
  {
   "cell_type": "markdown",
   "id": "28f62922-f6b5-4956-81e7-a2e88ef640d5",
   "metadata": {},
   "source": [
    "## Define Panel Widgets"
   ]
  },
  {
   "cell_type": "markdown",
   "id": "401a3efe-a595-42b3-9877-4c781747f08b",
   "metadata": {
    "tags": []
   },
   "source": [
    "### Barplot Value counts"
   ]
  },
  {
   "cell_type": "code",
   "execution_count": 27,
   "id": "80ce4e66-4447-4c11-b557-ae6791250501",
   "metadata": {},
   "outputs": [],
   "source": [
    "y_axis = pn.widgets.RadioButtonGroup(\n",
    "    name='Y axis', \n",
    "    options=['product_name', 'color_name'],\n",
    "    button_type='success'\n",
    ")"
   ]
  },
  {
   "cell_type": "code",
   "execution_count": 28,
   "id": "f346d007-a192-4624-97e9-421df9e3713a",
   "metadata": {},
   "outputs": [],
   "source": [
    "barplot_pipeline = (\n",
    "    idf_value_counts.groupby(y_axis)['value_counts'].count()\n",
    "    .to_frame()\n",
    "    .reset_index()\n",
    "    .sort_values(by='value_counts', ascending=False )\n",
    "    .reset_index( drop=True ).head(15)\n",
    ")"
   ]
  },
  {
   "cell_type": "code",
   "execution_count": 29,
   "id": "c385ee78-b21f-4ef2-8014-6aa9d7682acc",
   "metadata": {},
   "outputs": [
    {
     "data": {},
     "metadata": {},
     "output_type": "display_data"
    },
    {
     "data": {},
     "metadata": {},
     "output_type": "display_data"
    },
    {
     "data": {
      "application/vnd.holoviews_exec.v0+json": "",
      "text/html": [
       "<div id='1002'>\n",
       "  <div class=\"bk-root\" id=\"75b8bb62-2bb4-413f-b1fd-343bca4b69a7\" data-root-id=\"1002\"></div>\n",
       "</div>\n",
       "<script type=\"application/javascript\">(function(root) {\n",
       "  function embed_document(root) {\n",
       "    var docs_json = {\"85c60e93-969d-43fc-83d3-b48b7c42bdab\":{\"defs\":[{\"extends\":null,\"module\":null,\"name\":\"ReactiveHTML1\",\"overrides\":[],\"properties\":[]},{\"extends\":null,\"module\":null,\"name\":\"FlexBox1\",\"overrides\":[],\"properties\":[{\"default\":\"flex-start\",\"kind\":null,\"name\":\"align_content\"},{\"default\":\"flex-start\",\"kind\":null,\"name\":\"align_items\"},{\"default\":\"row\",\"kind\":null,\"name\":\"flex_direction\"},{\"default\":\"wrap\",\"kind\":null,\"name\":\"flex_wrap\"},{\"default\":\"flex-start\",\"kind\":null,\"name\":\"justify_content\"}]},{\"extends\":null,\"module\":null,\"name\":\"GridStack1\",\"overrides\":[],\"properties\":[{\"default\":\"warn\",\"kind\":null,\"name\":\"mode\"},{\"default\":null,\"kind\":null,\"name\":\"ncols\"},{\"default\":null,\"kind\":null,\"name\":\"nrows\"},{\"default\":true,\"kind\":null,\"name\":\"allow_resize\"},{\"default\":true,\"kind\":null,\"name\":\"allow_drag\"},{\"default\":[],\"kind\":null,\"name\":\"state\"}]},{\"extends\":null,\"module\":null,\"name\":\"click1\",\"overrides\":[],\"properties\":[{\"default\":\"\",\"kind\":null,\"name\":\"terminal_output\"},{\"default\":\"\",\"kind\":null,\"name\":\"debug_name\"},{\"default\":0,\"kind\":null,\"name\":\"clears\"}]},{\"extends\":null,\"module\":null,\"name\":\"NotificationAreaBase1\",\"overrides\":[],\"properties\":[{\"default\":\"bottom-right\",\"kind\":null,\"name\":\"position\"},{\"default\":0,\"kind\":null,\"name\":\"_clear\"}]},{\"extends\":null,\"module\":null,\"name\":\"NotificationArea1\",\"overrides\":[],\"properties\":[{\"default\":[],\"kind\":null,\"name\":\"notifications\"},{\"default\":\"bottom-right\",\"kind\":null,\"name\":\"position\"},{\"default\":0,\"kind\":null,\"name\":\"_clear\"},{\"default\":[{\"background\":\"#ffc107\",\"icon\":{\"className\":\"fas fa-exclamation-triangle\",\"color\":\"white\",\"tagName\":\"i\"},\"type\":\"warning\"},{\"background\":\"#007bff\",\"icon\":{\"className\":\"fas fa-info-circle\",\"color\":\"white\",\"tagName\":\"i\"},\"type\":\"info\"}],\"kind\":null,\"name\":\"types\"}]},{\"extends\":null,\"module\":null,\"name\":\"Notification\",\"overrides\":[],\"properties\":[{\"default\":null,\"kind\":null,\"name\":\"background\"},{\"default\":3000,\"kind\":null,\"name\":\"duration\"},{\"default\":null,\"kind\":null,\"name\":\"icon\"},{\"default\":\"\",\"kind\":null,\"name\":\"message\"},{\"default\":null,\"kind\":null,\"name\":\"notification_type\"},{\"default\":false,\"kind\":null,\"name\":\"_destroyed\"}]},{\"extends\":null,\"module\":null,\"name\":\"TemplateActions1\",\"overrides\":[],\"properties\":[{\"default\":0,\"kind\":null,\"name\":\"open_modal\"},{\"default\":0,\"kind\":null,\"name\":\"close_modal\"}]},{\"extends\":null,\"module\":null,\"name\":\"MaterialTemplateActions1\",\"overrides\":[],\"properties\":[{\"default\":0,\"kind\":null,\"name\":\"open_modal\"},{\"default\":0,\"kind\":null,\"name\":\"close_modal\"}]}],\"roots\":{\"references\":[{\"attributes\":{\"margin\":[5,5,5,5],\"name\":\"HSpacer02166\",\"sizing_mode\":\"stretch_width\"},\"id\":\"1007\",\"type\":\"Spacer\"},{\"attributes\":{\"callback\":null,\"renderers\":[{\"id\":\"1047\"}],\"tags\":[\"hv_created\"],\"tooltips\":[[\"product_name\",\"@{product_name}\"],[\"value_counts\",\"@{value_counts}\"]]},\"id\":\"1011\",\"type\":\"HoverTool\"},{\"attributes\":{\"factors\":[\"slim_jeans\",\"skinny_jeans\",\"regular_jeans\",\"freefit\\u00ae_slim_jeans\",\"trashed_skinny_jeans\",\"slim_tapered_jeans\",\"relaxed_jeans\",\"hybrid_regular_tapered_joggers\",\"regular_tapered_crop_jeans\",\"skinny_cropped_jeans\",\"slim_tapered_cropped_jeans\",\"loose_jeans\",\"relaxed_tapered_pull-on_jeans\",\"regular_denim_joggers\",\"hybrid_regular_denim_joggers\"],\"tags\":[[[\"product_name\",\"product_name\",null]]]},\"id\":\"1009\",\"type\":\"FactorRange\"},{\"attributes\":{\"data\":{\"product_name\":[\"slim_jeans\",\"skinny_jeans\",\"regular_jeans\",\"freefit\\u00ae_slim_jeans\",\"trashed_skinny_jeans\",\"slim_tapered_jeans\",\"relaxed_jeans\",\"hybrid_regular_tapered_joggers\",\"regular_tapered_crop_jeans\",\"skinny_cropped_jeans\",\"slim_tapered_cropped_jeans\",\"loose_jeans\",\"relaxed_tapered_pull-on_jeans\",\"regular_denim_joggers\",\"hybrid_regular_denim_joggers\"],\"value_counts\":[99,78,69,45,45,42,42,21,18,15,15,12,12,9,9]},\"selected\":{\"id\":\"1042\"},\"selection_policy\":{\"id\":\"1063\"}},\"id\":\"1041\",\"type\":\"ColumnDataSource\"},{\"attributes\":{\"coordinates\":null,\"group\":null,\"text\":\"Values Counts\",\"text_color\":\"black\",\"text_font_size\":\"12pt\"},\"id\":\"1013\",\"type\":\"Title\"},{\"attributes\":{},\"id\":\"1042\",\"type\":\"Selection\"},{\"attributes\":{\"fill_alpha\":{\"value\":0.2},\"fill_color\":{\"value\":\"#30a2da\"},\"hatch_alpha\":{\"value\":0.2},\"hatch_color\":{\"value\":\"#30a2da\"},\"line_alpha\":{\"value\":0.2},\"top\":{\"field\":\"value_counts\"},\"width\":{\"value\":0.8},\"x\":{\"field\":\"product_name\"}},\"id\":\"1046\",\"type\":\"VBar\"},{\"attributes\":{},\"id\":\"1017\",\"type\":\"CategoricalScale\"},{\"attributes\":{\"source\":{\"id\":\"1041\"}},\"id\":\"1048\",\"type\":\"CDSView\"},{\"attributes\":{\"below\":[{\"id\":\"1021\"}],\"center\":[{\"id\":\"1023\"},{\"id\":\"1027\"}],\"height\":500,\"left\":[{\"id\":\"1024\"}],\"margin\":[5,5,5,5],\"min_border_bottom\":10,\"min_border_left\":10,\"min_border_right\":10,\"min_border_top\":10,\"renderers\":[{\"id\":\"1047\"}],\"sizing_mode\":\"fixed\",\"title\":{\"id\":\"1013\"},\"toolbar\":{\"id\":\"1034\"},\"width\":700,\"x_range\":{\"id\":\"1009\"},\"x_scale\":{\"id\":\"1017\"},\"y_range\":{\"id\":\"1010\"},\"y_scale\":{\"id\":\"1019\"}},\"id\":\"1012\",\"subtype\":\"Figure\",\"type\":\"Plot\"},{\"attributes\":{},\"id\":\"1022\",\"type\":\"CategoricalTicker\"},{\"attributes\":{\"coordinates\":null,\"data_source\":{\"id\":\"1041\"},\"glyph\":{\"id\":\"1044\"},\"group\":null,\"hover_glyph\":null,\"muted_glyph\":{\"id\":\"1046\"},\"nonselection_glyph\":{\"id\":\"1045\"},\"selection_glyph\":{\"id\":\"1049\"},\"view\":{\"id\":\"1048\"}},\"id\":\"1047\",\"type\":\"GlyphRenderer\"},{\"attributes\":{\"axis\":{\"id\":\"1021\"},\"coordinates\":null,\"grid_line_color\":null,\"group\":null,\"ticker\":null},\"id\":\"1023\",\"type\":\"Grid\"},{\"attributes\":{\"axis_label\":\"product_name\",\"coordinates\":null,\"formatter\":{\"id\":\"1051\"},\"group\":null,\"major_label_orientation\":1.0471975511965976,\"major_label_policy\":{\"id\":\"1052\"},\"ticker\":{\"id\":\"1022\"}},\"id\":\"1021\",\"type\":\"CategoricalAxis\"},{\"attributes\":{\"fill_alpha\":{\"value\":0.1},\"fill_color\":{\"value\":\"#30a2da\"},\"hatch_alpha\":{\"value\":0.1},\"hatch_color\":{\"value\":\"#30a2da\"},\"line_alpha\":{\"value\":0.1},\"top\":{\"field\":\"value_counts\"},\"width\":{\"value\":0.8},\"x\":{\"field\":\"product_name\"}},\"id\":\"1045\",\"type\":\"VBar\"},{\"attributes\":{},\"id\":\"1029\",\"type\":\"PanTool\"},{\"attributes\":{},\"id\":\"1063\",\"type\":\"UnionRenderers\"},{\"attributes\":{\"axis\":{\"id\":\"1024\"},\"coordinates\":null,\"dimension\":1,\"grid_line_color\":null,\"group\":null,\"ticker\":null},\"id\":\"1027\",\"type\":\"Grid\"},{\"attributes\":{\"bottom\":{\"value\":0},\"fill_alpha\":{\"value\":1.0},\"fill_color\":{\"value\":\"#30a2da\"},\"hatch_alpha\":{\"value\":1.0},\"hatch_color\":{\"value\":\"#30a2da\"},\"hatch_scale\":{\"value\":12.0},\"hatch_weight\":{\"value\":1.0},\"line_alpha\":{\"value\":1.0},\"line_cap\":{\"value\":\"butt\"},\"line_color\":{\"value\":\"black\"},\"line_dash\":{\"value\":[]},\"line_dash_offset\":{\"value\":0},\"line_join\":{\"value\":\"bevel\"},\"line_width\":{\"value\":1},\"top\":{\"field\":\"value_counts\"},\"width\":{\"value\":0.8},\"x\":{\"field\":\"product_name\"}},\"id\":\"1049\",\"type\":\"VBar\"},{\"attributes\":{},\"id\":\"1051\",\"type\":\"CategoricalTickFormatter\"},{\"attributes\":{\"axis_label\":\"value_counts\",\"coordinates\":null,\"formatter\":{\"id\":\"1054\"},\"group\":null,\"major_label_policy\":{\"id\":\"1055\"},\"ticker\":{\"id\":\"1025\"}},\"id\":\"1024\",\"type\":\"LinearAxis\"},{\"attributes\":{},\"id\":\"1054\",\"type\":\"BasicTickFormatter\"},{\"attributes\":{},\"id\":\"1025\",\"type\":\"BasicTicker\"},{\"attributes\":{},\"id\":\"1030\",\"type\":\"WheelZoomTool\"},{\"attributes\":{\"children\":[{\"id\":\"1005\"},{\"id\":\"1007\"}],\"margin\":[0,0,0,0],\"name\":\"Row02167\"},\"id\":\"1004\",\"type\":\"Row\"},{\"attributes\":{},\"id\":\"1028\",\"type\":\"SaveTool\"},{\"attributes\":{\"overlay\":{\"id\":\"1033\"}},\"id\":\"1031\",\"type\":\"BoxZoomTool\"},{\"attributes\":{},\"id\":\"1032\",\"type\":\"ResetTool\"},{\"attributes\":{\"client_comm_id\":\"f4146130e64d404db0f9285c3ba760f6\",\"comm_id\":\"0905a2154a564146b31854f1c07fe23d\",\"plot_id\":\"1002\"},\"id\":\"1096\",\"type\":\"panel.models.comm_manager.CommManager\"},{\"attributes\":{\"children\":[{\"id\":\"1004\"},{\"id\":\"1008\"}],\"margin\":[0,0,0,0],\"name\":\"Column02168\"},\"id\":\"1003\",\"type\":\"Column\"},{\"attributes\":{\"children\":[{\"id\":\"1003\"}],\"margin\":[0,0,0,0],\"name\":\"Row02169\"},\"id\":\"1002\",\"type\":\"Row\"},{\"attributes\":{\"bottom_units\":\"screen\",\"coordinates\":null,\"fill_alpha\":0.5,\"fill_color\":\"lightgrey\",\"group\":null,\"left_units\":\"screen\",\"level\":\"overlay\",\"line_alpha\":1.0,\"line_color\":\"black\",\"line_dash\":[4,4],\"line_width\":2,\"right_units\":\"screen\",\"syncable\":false,\"top_units\":\"screen\"},\"id\":\"1033\",\"type\":\"BoxAnnotation\"},{\"attributes\":{},\"id\":\"1019\",\"type\":\"LinearScale\"},{\"attributes\":{},\"id\":\"1052\",\"type\":\"AllLabels\"},{\"attributes\":{\"children\":[{\"id\":\"1006\"}],\"margin\":[0,0,0,0],\"name\":\"Column02015\"},\"id\":\"1005\",\"type\":\"Column\"},{\"attributes\":{\"fill_color\":{\"value\":\"#30a2da\"},\"hatch_color\":{\"value\":\"#30a2da\"},\"top\":{\"field\":\"value_counts\"},\"width\":{\"value\":0.8},\"x\":{\"field\":\"product_name\"}},\"id\":\"1044\",\"type\":\"VBar\"},{\"attributes\":{\"tools\":[{\"id\":\"1011\"},{\"id\":\"1028\"},{\"id\":\"1029\"},{\"id\":\"1030\"},{\"id\":\"1031\"},{\"id\":\"1032\"}]},\"id\":\"1034\",\"type\":\"Toolbar\"},{\"attributes\":{},\"id\":\"1055\",\"type\":\"AllLabels\"},{\"attributes\":{\"reload\":false},\"id\":\"1127\",\"type\":\"panel.models.location.Location\"},{\"attributes\":{\"active\":0,\"button_type\":\"success\",\"labels\":[\"product_name\",\"color_name\"],\"margin\":[5,10,5,10]},\"id\":\"1006\",\"type\":\"RadioButtonGroup\"},{\"attributes\":{\"end\":108.0,\"reset_end\":108.0,\"reset_start\":0.0,\"tags\":[[[\"value_counts\",\"value_counts\",null]]]},\"id\":\"1010\",\"type\":\"Range1d\"},{\"attributes\":{\"children\":[{\"id\":\"1012\"}],\"margin\":[0,0,0,0],\"name\":\"Row02020\"},\"id\":\"1008\",\"type\":\"Row\"}],\"root_ids\":[\"1002\",\"1096\",\"1127\"]},\"title\":\"Bokeh Application\",\"version\":\"2.4.3\"}};\n",
       "    var render_items = [{\"docid\":\"85c60e93-969d-43fc-83d3-b48b7c42bdab\",\"root_ids\":[\"1002\"],\"roots\":{\"1002\":\"75b8bb62-2bb4-413f-b1fd-343bca4b69a7\"}}];\n",
       "    root.Bokeh.embed.embed_items_notebook(docs_json, render_items);\n",
       "  }\n",
       "  if (root.Bokeh !== undefined && root.Bokeh.Panel !== undefined && ( root['Tabulator'] !== undefined)) {\n",
       "    embed_document(root);\n",
       "  } else {\n",
       "    var attempts = 0;\n",
       "    var timer = setInterval(function(root) {\n",
       "      if (root.Bokeh !== undefined && root.Bokeh.Panel !== undefined && (root['Tabulator'] !== undefined)) {\n",
       "        clearInterval(timer);\n",
       "        embed_document(root);\n",
       "      } else if (document.readyState == \"complete\") {\n",
       "        attempts++;\n",
       "        if (attempts > 200) {\n",
       "          clearInterval(timer);\n",
       "          console.log(\"Bokeh: ERROR: Unable to run BokehJS code because BokehJS library is missing\");\n",
       "        }\n",
       "      }\n",
       "    }, 25, root)\n",
       "  }\n",
       "})(window);</script>"
      ],
      "text/plain": [
       "<hvplot.interactive.Interactive at 0x7f58747d9000>"
      ]
     },
     "execution_count": 29,
     "metadata": {
      "application/vnd.holoviews_exec.v0+json": {
       "id": "1002"
      }
     },
     "output_type": "execute_result"
    }
   ],
   "source": [
    "bar_plot = barplot_pipeline.hvplot(kind='bar', \n",
    "                                       x=y_axis, \n",
    "                                       y='value_counts', \n",
    "                                       title='Values Counts',\n",
    "                                       rot=60,\n",
    "                                       height=500\n",
    "                                       )\n",
    "bar_plot"
   ]
  },
  {
   "cell_type": "markdown",
   "id": "b0e4d032-ac41-435c-925f-d83007093646",
   "metadata": {
    "tags": []
   },
   "source": [
    "### Response Table"
   ]
  },
  {
   "cell_type": "code",
   "execution_count": 40,
   "id": "b3016763-99d3-49c2-84f9-ed8a1c8939b0",
   "metadata": {},
   "outputs": [
    {
     "name": "stderr",
     "output_type": "stream",
     "text": [
      "WARNING:param.ParamFunction02922: The function 'evaluate' does not have any dependencies and will never update. Are you sure you did not intend to depend on or bind a parameter or widget to this function? If not simply call the function before passing it to Panel. Otherwise, when passing a parameter as an argument, ensure you pass at least one parameter and reference the actual parameter object not the current value, i.e. use object.param.parameter not object.parameter.\n"
     ]
    },
    {
     "data": {},
     "metadata": {},
     "output_type": "display_data"
    },
    {
     "data": {
      "application/vnd.holoviews_exec.v0+json": "",
      "text/html": [
       "<div id='1667'>\n",
       "  <div class=\"bk-root\" id=\"4cbf8683-2ce3-468c-9c40-43f8e7ee3b2f\" data-root-id=\"1667\"></div>\n",
       "</div>\n",
       "<script type=\"application/javascript\">(function(root) {\n",
       "  function embed_document(root) {\n",
       "    var docs_json = {\"791b0275-1ea3-45c0-a0ad-5e26ec5044a9\":{\"defs\":[{\"extends\":null,\"module\":null,\"name\":\"ReactiveHTML1\",\"overrides\":[],\"properties\":[]},{\"extends\":null,\"module\":null,\"name\":\"FlexBox1\",\"overrides\":[],\"properties\":[{\"default\":\"flex-start\",\"kind\":null,\"name\":\"align_content\"},{\"default\":\"flex-start\",\"kind\":null,\"name\":\"align_items\"},{\"default\":\"row\",\"kind\":null,\"name\":\"flex_direction\"},{\"default\":\"wrap\",\"kind\":null,\"name\":\"flex_wrap\"},{\"default\":\"flex-start\",\"kind\":null,\"name\":\"justify_content\"}]},{\"extends\":null,\"module\":null,\"name\":\"GridStack1\",\"overrides\":[],\"properties\":[{\"default\":\"warn\",\"kind\":null,\"name\":\"mode\"},{\"default\":null,\"kind\":null,\"name\":\"ncols\"},{\"default\":null,\"kind\":null,\"name\":\"nrows\"},{\"default\":true,\"kind\":null,\"name\":\"allow_resize\"},{\"default\":true,\"kind\":null,\"name\":\"allow_drag\"},{\"default\":[],\"kind\":null,\"name\":\"state\"}]},{\"extends\":null,\"module\":null,\"name\":\"click1\",\"overrides\":[],\"properties\":[{\"default\":\"\",\"kind\":null,\"name\":\"terminal_output\"},{\"default\":\"\",\"kind\":null,\"name\":\"debug_name\"},{\"default\":0,\"kind\":null,\"name\":\"clears\"}]},{\"extends\":null,\"module\":null,\"name\":\"NotificationAreaBase1\",\"overrides\":[],\"properties\":[{\"default\":\"bottom-right\",\"kind\":null,\"name\":\"position\"},{\"default\":0,\"kind\":null,\"name\":\"_clear\"}]},{\"extends\":null,\"module\":null,\"name\":\"NotificationArea1\",\"overrides\":[],\"properties\":[{\"default\":[],\"kind\":null,\"name\":\"notifications\"},{\"default\":\"bottom-right\",\"kind\":null,\"name\":\"position\"},{\"default\":0,\"kind\":null,\"name\":\"_clear\"},{\"default\":[{\"background\":\"#ffc107\",\"icon\":{\"className\":\"fas fa-exclamation-triangle\",\"color\":\"white\",\"tagName\":\"i\"},\"type\":\"warning\"},{\"background\":\"#007bff\",\"icon\":{\"className\":\"fas fa-info-circle\",\"color\":\"white\",\"tagName\":\"i\"},\"type\":\"info\"}],\"kind\":null,\"name\":\"types\"}]},{\"extends\":null,\"module\":null,\"name\":\"Notification\",\"overrides\":[],\"properties\":[{\"default\":null,\"kind\":null,\"name\":\"background\"},{\"default\":3000,\"kind\":null,\"name\":\"duration\"},{\"default\":null,\"kind\":null,\"name\":\"icon\"},{\"default\":\"\",\"kind\":null,\"name\":\"message\"},{\"default\":null,\"kind\":null,\"name\":\"notification_type\"},{\"default\":false,\"kind\":null,\"name\":\"_destroyed\"}]},{\"extends\":null,\"module\":null,\"name\":\"TemplateActions1\",\"overrides\":[],\"properties\":[{\"default\":0,\"kind\":null,\"name\":\"open_modal\"},{\"default\":0,\"kind\":null,\"name\":\"close_modal\"}]},{\"extends\":null,\"module\":null,\"name\":\"MaterialTemplateActions1\",\"overrides\":[],\"properties\":[{\"default\":0,\"kind\":null,\"name\":\"open_modal\"},{\"default\":0,\"kind\":null,\"name\":\"close_modal\"}]}],\"roots\":{\"references\":[{\"attributes\":{\"format\":\"0,0.0[00000]\",\"text_align\":\"right\"},\"id\":\"1691\",\"type\":\"NumberFormatter\"},{\"attributes\":{},\"id\":\"1703\",\"type\":\"UnionRenderers\"},{\"attributes\":{\"editor\":{\"id\":\"1697\"},\"field\":\"value_counts\",\"formatter\":{\"id\":\"1696\"},\"title\":\"value_counts\",\"width\":0},\"id\":\"1698\",\"type\":\"TableColumn\"},{\"attributes\":{},\"id\":\"1682\",\"type\":\"StringEditor\"},{\"attributes\":{\"format\":\"0,0.0[00000]\",\"text_align\":\"right\"},\"id\":\"1686\",\"type\":\"NumberFormatter\"},{\"attributes\":{\"children\":[{\"id\":\"1669\"},{\"id\":\"1672\"}],\"margin\":[0,0,0,0],\"name\":\"Column02941\"},\"id\":\"1668\",\"type\":\"Column\"},{\"attributes\":{\"children\":[{\"id\":\"1668\"}],\"margin\":[0,0,0,0],\"name\":\"Row02942\"},\"id\":\"1667\",\"type\":\"Row\"},{\"attributes\":{},\"id\":\"1677\",\"type\":\"CellEditor\"},{\"attributes\":{\"columns\":[{\"id\":\"1678\"},{\"id\":\"1683\"},{\"id\":\"1688\"},{\"id\":\"1693\"},{\"id\":\"1698\"}],\"configuration\":{\"columns\":[{\"field\":\"index\"},{\"field\":\"product_name\"},{\"field\":\"median\"},{\"field\":\"mean\"},{\"field\":\"value_counts\"}],\"dataTree\":false,\"selectable\":true},\"indexes\":[\"index\"],\"layout\":\"fit_data_table\",\"margin\":[5,10,5,10],\"max_page\":2,\"name\":\"\",\"page\":1,\"page_size\":16,\"pagination\":\"remote\",\"select_mode\":true,\"selectable_rows\":null,\"sizing_mode\":\"stretch_width\",\"source\":{\"id\":\"1673\"},\"styles\":{\"data\":{},\"id\":\"6c4fe56368fd47098945f9d280e5f920\"},\"subscribed_events\":[\"table-edit\",\"cell-click\"]},\"id\":\"1701\",\"type\":\"panel.models.tabulator.DataTabulator\"},{\"attributes\":{\"margin\":[0,0,0,0],\"name\":\"Column02921\"},\"id\":\"1670\",\"type\":\"Column\"},{\"attributes\":{},\"id\":\"1692\",\"type\":\"NumberEditor\"},{\"attributes\":{\"children\":[{\"id\":\"1701\"}],\"margin\":[0,0,0,0],\"name\":\"Row02926\"},\"id\":\"1672\",\"type\":\"Row\"},{\"attributes\":{\"text_align\":\"right\"},\"id\":\"1696\",\"type\":\"NumberFormatter\"},{\"attributes\":{\"editor\":{\"id\":\"1692\"},\"field\":\"mean\",\"formatter\":{\"id\":\"1691\"},\"title\":\"mean\",\"width\":0},\"id\":\"1693\",\"type\":\"TableColumn\"},{\"attributes\":{\"children\":[{\"id\":\"1670\"},{\"id\":\"1671\"}],\"margin\":[0,0,0,0],\"name\":\"Row02940\"},\"id\":\"1669\",\"type\":\"Row\"},{\"attributes\":{\"client_comm_id\":\"78ddeeae6fd24268bc294e96c09b2923\",\"comm_id\":\"5472df72fbd0484cafc4831ded4e35ee\",\"plot_id\":\"1667\"},\"id\":\"1709\",\"type\":\"panel.models.comm_manager.CommManager\"},{\"attributes\":{\"editor\":{\"id\":\"1687\"},\"field\":\"median\",\"formatter\":{\"id\":\"1686\"},\"title\":\"median\",\"width\":0},\"id\":\"1688\",\"type\":\"TableColumn\"},{\"attributes\":{\"editor\":{\"id\":\"1682\"},\"field\":\"product_name\",\"formatter\":{\"id\":\"1681\"},\"title\":\"product_name\",\"width\":0},\"id\":\"1683\",\"type\":\"TableColumn\"},{\"attributes\":{\"text_align\":\"left\"},\"id\":\"1675\",\"type\":\"NumberFormatter\"},{\"attributes\":{\"indices\":[]},\"id\":\"1674\",\"type\":\"Selection\"},{\"attributes\":{},\"id\":\"1697\",\"type\":\"IntEditor\"},{\"attributes\":{},\"id\":\"1681\",\"type\":\"StringFormatter\"},{\"attributes\":{\"margin\":[5,5,5,5],\"name\":\"HSpacer02939\",\"sizing_mode\":\"stretch_width\"},\"id\":\"1671\",\"type\":\"Spacer\"},{\"attributes\":{\"data\":{\"index\":[0,1,2,3,4,5,6,7,8,9,10,11,12,13,14,15],\"mean\":{\"__ndarray__\":\"aBcQm0qjQkDKL5b8YilBQB+F61G4/kNAH4XrUbj+Q0AfhetRuH5DQLGpNOTcR0BAGMFEfyfrPUA9CtejcP09QD0K16Nw/T1APQrXo3D9PUA9CtejcP09QD0K16NwfThAPQrXo3D9PEA9CtejcP04QD0K16NwfTRALczewuztM0A=\",\"dtype\":\"float64\",\"order\":\"little\",\"shape\":[16]},\"median\":{\"__ndarray__\":\"H4XrUbj+Q0AfhetRuP5DQB+F61G4/kNAH4XrUbj+Q0AfhetRuH5BQB+F61G4fkFAPQrXo3D9PUA9CtejcP09QD0K16Nw/T1APQrXo3D9PUA9CtejcP09QD0K16NwfTpAPQrXo3D9OEA9CtejcP04QD0K16NwfTRAPQrXo3D9M0A=\",\"dtype\":\"float64\",\"order\":\"little\",\"shape\":[16]},\"product_name\":[\"hybrid_regular_tapered_joggers\",\"hybrid_regular_denim_joggers\",\"regular_bootcut_jeans\",\"loose_carpenter_jeans\",\"freefit\\u00ae_slim_jeans\",\"slim_tapered_jeans\",\"relaxed_jeans\",\"slim_tapered_cropped_jeans\",\"skinny_cropped_jeans\",\"loose_jeans\",\"relaxed_denim_joggers\",\"relaxed_tapered_pull-on_jeans\",\"trashed_skinny_jeans\",\"relaxed_pull-on_jeans\",\"slim_straight_cropped_jeans\",\"slim_jeans\"],\"value_counts\":[21,9,6,3,45,42,42,15,15,12,6,12,45,9,6,99]},\"selected\":{\"id\":\"1674\"},\"selection_policy\":{\"id\":\"1703\"}},\"id\":\"1673\",\"type\":\"ColumnDataSource\"},{\"attributes\":{\"editor\":{\"id\":\"1677\"},\"field\":\"index\",\"formatter\":{\"id\":\"1675\"},\"title\":\"index\",\"width\":0},\"id\":\"1678\",\"type\":\"TableColumn\"},{\"attributes\":{},\"id\":\"1687\",\"type\":\"NumberEditor\"}],\"root_ids\":[\"1667\",\"1709\"]},\"title\":\"Bokeh Application\",\"version\":\"2.4.3\"}};\n",
       "    var render_items = [{\"docid\":\"791b0275-1ea3-45c0-a0ad-5e26ec5044a9\",\"root_ids\":[\"1667\"],\"roots\":{\"1667\":\"4cbf8683-2ce3-468c-9c40-43f8e7ee3b2f\"}}];\n",
       "    root.Bokeh.embed.embed_items_notebook(docs_json, render_items);\n",
       "  }\n",
       "  if (root.Bokeh !== undefined && root.Bokeh.Panel !== undefined && ( root['Tabulator'] !== undefined)) {\n",
       "    embed_document(root);\n",
       "  } else {\n",
       "    var attempts = 0;\n",
       "    var timer = setInterval(function(root) {\n",
       "      if (root.Bokeh !== undefined && root.Bokeh.Panel !== undefined && (root['Tabulator'] !== undefined)) {\n",
       "        clearInterval(timer);\n",
       "        embed_document(root);\n",
       "      } else if (document.readyState == \"complete\") {\n",
       "        attempts++;\n",
       "        if (attempts > 200) {\n",
       "          clearInterval(timer);\n",
       "          console.log(\"Bokeh: ERROR: Unable to run BokehJS code because BokehJS library is missing\");\n",
       "        }\n",
       "      }\n",
       "    }, 25, root)\n",
       "  }\n",
       "})(window);</script>"
      ],
      "text/plain": [
       "<hvplot.interactive.Interactive at 0x7f587a4d3d00>"
      ]
     },
     "execution_count": 40,
     "metadata": {
      "application/vnd.holoviews_exec.v0+json": {
       "id": "1667"
      }
     },
     "output_type": "execute_result"
    }
   ],
   "source": [
    "response_table = idf_table.pipe(pn.widgets.Tabulator, pagination='remote', page_size = 16, sizing_mode='stretch_width')\n",
    "response_table"
   ]
  },
  {
   "cell_type": "markdown",
   "id": "5173d231-cbe4-4c73-88cf-cc08121cde5e",
   "metadata": {
    "tags": []
   },
   "source": [
    "### All DataSet Table"
   ]
  },
  {
   "cell_type": "code",
   "execution_count": 31,
   "id": "b697789e-5be5-4aa3-9d07-9711168a5a60",
   "metadata": {},
   "outputs": [
    {
     "name": "stderr",
     "output_type": "stream",
     "text": [
      "WARNING:param.ParamFunction02359: The function 'evaluate' does not have any dependencies and will never update. Are you sure you did not intend to depend on or bind a parameter or widget to this function? If not simply call the function before passing it to Panel. Otherwise, when passing a parameter as an argument, ensure you pass at least one parameter and reference the actual parameter object not the current value, i.e. use object.param.parameter not object.parameter.\n"
     ]
    },
    {
     "data": {},
     "metadata": {},
     "output_type": "display_data"
    },
    {
     "data": {
      "application/vnd.holoviews_exec.v0+json": "",
      "text/html": [
       "<div id='1216'>\n",
       "  <div class=\"bk-root\" id=\"0eb1656d-e63a-459b-a1cb-f67173dfd1f6\" data-root-id=\"1216\"></div>\n",
       "</div>\n",
       "<script type=\"application/javascript\">(function(root) {\n",
       "  function embed_document(root) {\n",
       "    var docs_json = {\"d1ced441-8a58-4825-951a-bfe7f9b38ced\":{\"defs\":[{\"extends\":null,\"module\":null,\"name\":\"ReactiveHTML1\",\"overrides\":[],\"properties\":[]},{\"extends\":null,\"module\":null,\"name\":\"FlexBox1\",\"overrides\":[],\"properties\":[{\"default\":\"flex-start\",\"kind\":null,\"name\":\"align_content\"},{\"default\":\"flex-start\",\"kind\":null,\"name\":\"align_items\"},{\"default\":\"row\",\"kind\":null,\"name\":\"flex_direction\"},{\"default\":\"wrap\",\"kind\":null,\"name\":\"flex_wrap\"},{\"default\":\"flex-start\",\"kind\":null,\"name\":\"justify_content\"}]},{\"extends\":null,\"module\":null,\"name\":\"GridStack1\",\"overrides\":[],\"properties\":[{\"default\":\"warn\",\"kind\":null,\"name\":\"mode\"},{\"default\":null,\"kind\":null,\"name\":\"ncols\"},{\"default\":null,\"kind\":null,\"name\":\"nrows\"},{\"default\":true,\"kind\":null,\"name\":\"allow_resize\"},{\"default\":true,\"kind\":null,\"name\":\"allow_drag\"},{\"default\":[],\"kind\":null,\"name\":\"state\"}]},{\"extends\":null,\"module\":null,\"name\":\"click1\",\"overrides\":[],\"properties\":[{\"default\":\"\",\"kind\":null,\"name\":\"terminal_output\"},{\"default\":\"\",\"kind\":null,\"name\":\"debug_name\"},{\"default\":0,\"kind\":null,\"name\":\"clears\"}]},{\"extends\":null,\"module\":null,\"name\":\"NotificationAreaBase1\",\"overrides\":[],\"properties\":[{\"default\":\"bottom-right\",\"kind\":null,\"name\":\"position\"},{\"default\":0,\"kind\":null,\"name\":\"_clear\"}]},{\"extends\":null,\"module\":null,\"name\":\"NotificationArea1\",\"overrides\":[],\"properties\":[{\"default\":[],\"kind\":null,\"name\":\"notifications\"},{\"default\":\"bottom-right\",\"kind\":null,\"name\":\"position\"},{\"default\":0,\"kind\":null,\"name\":\"_clear\"},{\"default\":[{\"background\":\"#ffc107\",\"icon\":{\"className\":\"fas fa-exclamation-triangle\",\"color\":\"white\",\"tagName\":\"i\"},\"type\":\"warning\"},{\"background\":\"#007bff\",\"icon\":{\"className\":\"fas fa-info-circle\",\"color\":\"white\",\"tagName\":\"i\"},\"type\":\"info\"}],\"kind\":null,\"name\":\"types\"}]},{\"extends\":null,\"module\":null,\"name\":\"Notification\",\"overrides\":[],\"properties\":[{\"default\":null,\"kind\":null,\"name\":\"background\"},{\"default\":3000,\"kind\":null,\"name\":\"duration\"},{\"default\":null,\"kind\":null,\"name\":\"icon\"},{\"default\":\"\",\"kind\":null,\"name\":\"message\"},{\"default\":null,\"kind\":null,\"name\":\"notification_type\"},{\"default\":false,\"kind\":null,\"name\":\"_destroyed\"}]},{\"extends\":null,\"module\":null,\"name\":\"TemplateActions1\",\"overrides\":[],\"properties\":[{\"default\":0,\"kind\":null,\"name\":\"open_modal\"},{\"default\":0,\"kind\":null,\"name\":\"close_modal\"}]},{\"extends\":null,\"module\":null,\"name\":\"MaterialTemplateActions1\",\"overrides\":[],\"properties\":[{\"default\":0,\"kind\":null,\"name\":\"open_modal\"},{\"default\":0,\"kind\":null,\"name\":\"close_modal\"}]}],\"roots\":{\"references\":[{\"attributes\":{},\"id\":\"1241\",\"type\":\"StringEditor\"},{\"attributes\":{},\"id\":\"1250\",\"type\":\"StringFormatter\"},{\"attributes\":{},\"id\":\"1246\",\"type\":\"StringEditor\"},{\"attributes\":{\"editor\":{\"id\":\"1246\"},\"field\":\"product_name\",\"formatter\":{\"id\":\"1245\"},\"title\":\"product_name\",\"width\":0},\"id\":\"1247\",\"type\":\"TableColumn\"},{\"attributes\":{\"format\":\"0,0.0[00000]\",\"text_align\":\"right\"},\"id\":\"1265\",\"type\":\"NumberFormatter\"},{\"attributes\":{},\"id\":\"1271\",\"type\":\"NumberEditor\"},{\"attributes\":{\"editor\":{\"id\":\"1226\"},\"field\":\"index\",\"formatter\":{\"id\":\"1224\"},\"title\":\"index\",\"width\":0},\"id\":\"1227\",\"type\":\"TableColumn\"},{\"attributes\":{\"editor\":{\"id\":\"1241\"},\"field\":\"color_id\",\"formatter\":{\"id\":\"1240\"},\"title\":\"color_id\",\"width\":0},\"id\":\"1242\",\"type\":\"TableColumn\"},{\"attributes\":{\"editor\":{\"id\":\"1271\"},\"field\":\"polyester\",\"formatter\":{\"id\":\"1270\"},\"title\":\"polyester\",\"width\":0},\"id\":\"1272\",\"type\":\"TableColumn\"},{\"attributes\":{\"editor\":{\"id\":\"1261\"},\"field\":\"product_price\",\"formatter\":{\"id\":\"1260\"},\"title\":\"product_price\",\"width\":0},\"id\":\"1262\",\"type\":\"TableColumn\"},{\"attributes\":{\"format\":\"0,0.0[00000]\",\"text_align\":\"right\"},\"id\":\"1275\",\"type\":\"NumberFormatter\"},{\"attributes\":{},\"id\":\"1240\",\"type\":\"StringFormatter\"},{\"attributes\":{},\"id\":\"1245\",\"type\":\"StringFormatter\"},{\"attributes\":{\"editor\":{\"id\":\"1236\"},\"field\":\"style_id\",\"formatter\":{\"id\":\"1235\"},\"title\":\"style_id\",\"width\":0},\"id\":\"1237\",\"type\":\"TableColumn\"},{\"attributes\":{},\"id\":\"1261\",\"type\":\"NumberEditor\"},{\"attributes\":{},\"id\":\"1235\",\"type\":\"StringFormatter\"},{\"attributes\":{\"editor\":{\"id\":\"1266\"},\"field\":\"cotton\",\"formatter\":{\"id\":\"1265\"},\"title\":\"cotton\",\"width\":0},\"id\":\"1267\",\"type\":\"TableColumn\"},{\"attributes\":{\"margin\":[0,0,0,0],\"name\":\"Column02358\"},\"id\":\"1219\",\"type\":\"Column\"},{\"attributes\":{\"editor\":{\"id\":\"1281\"},\"field\":\"scrapy_datetime\",\"formatter\":{\"id\":\"1280\"},\"title\":\"scrapy_datetime\",\"width\":0},\"id\":\"1282\",\"type\":\"TableColumn\"},{\"attributes\":{},\"id\":\"1281\",\"type\":\"DateEditor\"},{\"attributes\":{},\"id\":\"1226\",\"type\":\"CellEditor\"},{\"attributes\":{\"format\":\"%Y-%m-%d %H:%M:%S\",\"text_align\":\"right\"},\"id\":\"1280\",\"type\":\"DateFormatter\"},{\"attributes\":{\"children\":[{\"id\":\"1218\"},{\"id\":\"1221\"}],\"margin\":[0,0,0,0],\"name\":\"Column02385\"},\"id\":\"1217\",\"type\":\"Column\"},{\"attributes\":{\"format\":\"0,0.0[00000]\",\"text_align\":\"right\"},\"id\":\"1260\",\"type\":\"NumberFormatter\"},{\"attributes\":{\"data\":{\"color_id\":[\"001\",\"002\",\"003\",\"004\",\"005\",\"006\",\"007\",\"008\",\"002\",\"001\"],\"color_name\":[\"black\",\"light_denim_blue\",\"light_denim_blue\",\"denim_blue\",\"dark_blue\",\"dark_denim_blue\",\"dark_gray\",\"white\",\"white\",\"light_denim_blue\"],\"cotton\":{\"__ndarray__\":\"rkfhehSu7z+uR+F6FK7vP65H4XoUru8/rkfhehSu7z+uR+F6FK7vPwAAAAAAAPA/rkfhehSu7z8AAAAAAADwPwAAAAAAAPA/AAAAAAAA8D8=\",\"dtype\":\"float64\",\"order\":\"little\",\"shape\":[10]},\"fit\":[\"slim_fit\",\"slim_fit\",\"slim_fit\",\"slim_fit\",\"slim_fit\",\"slim_fit\",\"slim_fit\",\"slim_fit\",\"slim_fit\",\"slim_fit\"],\"index\":[0,1,2,3,4,5,6,7,8,9],\"polyester\":{\"__ndarray__\":\"zczMzMzM5D/NzMzMzMzkP83MzMzMzOQ/zczMzMzM5D/NzMzMzMzkPwAAAAAAAAAAzczMzMzM5D8AAAAAAAAAAAAAAAAAAAAAAAAAAAAAAAA=\",\"dtype\":\"float64\",\"order\":\"little\",\"shape\":[10]},\"product_id\":[\"1024256001\",\"1024256002\",\"1024256003\",\"1024256004\",\"1024256005\",\"1024256006\",\"1024256007\",\"1024256008\",\"0938875002\",\"0938875001\"],\"product_name\":[\"slim_jeans\",\"slim_jeans\",\"slim_jeans\",\"slim_jeans\",\"slim_jeans\",\"slim_jeans\",\"slim_jeans\",\"slim_jeans\",\"slim_tapered_jeans\",\"slim_tapered_jeans\"],\"product_price\":{\"__ndarray__\":\"PQrXo3D9M0A9CtejcP0zQD0K16Nw/TNAPQrXo3D9M0A9CtejcP0zQD0K16Nw/TNAPQrXo3D9M0A9CtejcP0zQB+F61G4/kNAPQrXo3D9PUA=\",\"dtype\":\"float64\",\"order\":\"little\",\"shape\":[10]},\"scrapy_datetime\":{\"__ndarray__\":\"AACGXFAFeEIAAIZcUAV4QgAAhlxQBXhCAACGXFAFeEIAAIZcUAV4QgAAhlxQBXhCAACGXFAFeEIAAIZcUAV4QgAAhlxQBXhCAACGXFAFeEI=\",\"dtype\":\"float64\",\"order\":\"little\",\"shape\":[10]},\"spandex\":{\"__ndarray__\":\"exSuR+F6hD97FK5H4XqEP3sUrkfheoQ/exSuR+F6hD97FK5H4XqEP3sUrkfheoQ/exSuR+F6hD97FK5H4XqEP3sUrkfheoQ/exSuR+F6hD8=\",\"dtype\":\"float64\",\"order\":\"little\",\"shape\":[10]},\"style_id\":[\"1024256\",\"1024256\",\"1024256\",\"1024256\",\"1024256\",\"1024256\",\"1024256\",\"1024256\",\"0938875\",\"0938875\"]},\"selected\":{\"id\":\"1223\"},\"selection_policy\":{\"id\":\"1287\"}},\"id\":\"1222\",\"type\":\"ColumnDataSource\"},{\"attributes\":{},\"id\":\"1287\",\"type\":\"UnionRenderers\"},{\"attributes\":{\"editor\":{\"id\":\"1276\"},\"field\":\"spandex\",\"formatter\":{\"id\":\"1275\"},\"title\":\"spandex\",\"width\":0},\"id\":\"1277\",\"type\":\"TableColumn\"},{\"attributes\":{},\"id\":\"1256\",\"type\":\"StringEditor\"},{\"attributes\":{\"children\":[{\"id\":\"1217\"}],\"margin\":[0,0,0,0],\"name\":\"Row02386\"},\"id\":\"1216\",\"type\":\"Row\"},{\"attributes\":{\"columns\":[{\"id\":\"1227\"},{\"id\":\"1232\"},{\"id\":\"1237\"},{\"id\":\"1242\"},{\"id\":\"1247\"},{\"id\":\"1252\"},{\"id\":\"1257\"},{\"id\":\"1262\"},{\"id\":\"1267\"},{\"id\":\"1272\"},{\"id\":\"1277\"},{\"id\":\"1282\"}],\"configuration\":{\"columns\":[{\"field\":\"index\"},{\"field\":\"product_id\"},{\"field\":\"style_id\"},{\"field\":\"color_id\"},{\"field\":\"product_name\"},{\"field\":\"color_name\"},{\"field\":\"fit\"},{\"field\":\"product_price\"},{\"field\":\"cotton\"},{\"field\":\"polyester\"},{\"field\":\"spandex\"},{\"field\":\"scrapy_datetime\"}],\"dataTree\":false,\"selectable\":true},\"indexes\":[\"index\"],\"layout\":\"fit_data_table\",\"margin\":[5,10,5,10],\"max_page\":57,\"name\":\"\",\"page\":1,\"page_size\":10,\"pagination\":\"remote\",\"select_mode\":true,\"selectable_rows\":null,\"sizing_mode\":\"stretch_width\",\"source\":{\"id\":\"1222\"},\"styles\":{\"data\":{},\"id\":\"91b5fafd225342aa8229f08a5ccf4826\"},\"subscribed_events\":[\"table-edit\",\"cell-click\"]},\"id\":\"1285\",\"type\":\"panel.models.tabulator.DataTabulator\"},{\"attributes\":{},\"id\":\"1266\",\"type\":\"NumberEditor\"},{\"attributes\":{},\"id\":\"1251\",\"type\":\"StringEditor\"},{\"attributes\":{},\"id\":\"1231\",\"type\":\"StringEditor\"},{\"attributes\":{},\"id\":\"1230\",\"type\":\"StringFormatter\"},{\"attributes\":{\"children\":[{\"id\":\"1285\"}],\"margin\":[0,0,0,0],\"name\":\"Row02363\"},\"id\":\"1221\",\"type\":\"Row\"},{\"attributes\":{\"editor\":{\"id\":\"1256\"},\"field\":\"fit\",\"formatter\":{\"id\":\"1255\"},\"title\":\"fit\",\"width\":0},\"id\":\"1257\",\"type\":\"TableColumn\"},{\"attributes\":{\"margin\":[5,5,5,5],\"name\":\"HSpacer02383\",\"sizing_mode\":\"stretch_width\"},\"id\":\"1220\",\"type\":\"Spacer\"},{\"attributes\":{\"format\":\"0,0.0[00000]\",\"text_align\":\"right\"},\"id\":\"1270\",\"type\":\"NumberFormatter\"},{\"attributes\":{\"text_align\":\"left\"},\"id\":\"1224\",\"type\":\"NumberFormatter\"},{\"attributes\":{},\"id\":\"1255\",\"type\":\"StringFormatter\"},{\"attributes\":{\"indices\":[]},\"id\":\"1223\",\"type\":\"Selection\"},{\"attributes\":{\"editor\":{\"id\":\"1231\"},\"field\":\"product_id\",\"formatter\":{\"id\":\"1230\"},\"title\":\"product_id\",\"width\":0},\"id\":\"1232\",\"type\":\"TableColumn\"},{\"attributes\":{\"client_comm_id\":\"c343cb7e38eb452da7175a2accf81096\",\"comm_id\":\"f8fd1c3c8bd142b8baa6c00da0e0d2fe\",\"plot_id\":\"1216\"},\"id\":\"1293\",\"type\":\"panel.models.comm_manager.CommManager\"},{\"attributes\":{\"children\":[{\"id\":\"1219\"},{\"id\":\"1220\"}],\"margin\":[0,0,0,0],\"name\":\"Row02384\"},\"id\":\"1218\",\"type\":\"Row\"},{\"attributes\":{},\"id\":\"1276\",\"type\":\"NumberEditor\"},{\"attributes\":{},\"id\":\"1236\",\"type\":\"StringEditor\"},{\"attributes\":{\"editor\":{\"id\":\"1251\"},\"field\":\"color_name\",\"formatter\":{\"id\":\"1250\"},\"title\":\"color_name\",\"width\":0},\"id\":\"1252\",\"type\":\"TableColumn\"}],\"root_ids\":[\"1216\",\"1293\"]},\"title\":\"Bokeh Application\",\"version\":\"2.4.3\"}};\n",
       "    var render_items = [{\"docid\":\"d1ced441-8a58-4825-951a-bfe7f9b38ced\",\"root_ids\":[\"1216\"],\"roots\":{\"1216\":\"0eb1656d-e63a-459b-a1cb-f67173dfd1f6\"}}];\n",
       "    root.Bokeh.embed.embed_items_notebook(docs_json, render_items);\n",
       "  }\n",
       "  if (root.Bokeh !== undefined && root.Bokeh.Panel !== undefined && ( root['Tabulator'] !== undefined)) {\n",
       "    embed_document(root);\n",
       "  } else {\n",
       "    var attempts = 0;\n",
       "    var timer = setInterval(function(root) {\n",
       "      if (root.Bokeh !== undefined && root.Bokeh.Panel !== undefined && (root['Tabulator'] !== undefined)) {\n",
       "        clearInterval(timer);\n",
       "        embed_document(root);\n",
       "      } else if (document.readyState == \"complete\") {\n",
       "        attempts++;\n",
       "        if (attempts > 200) {\n",
       "          clearInterval(timer);\n",
       "          console.log(\"Bokeh: ERROR: Unable to run BokehJS code because BokehJS library is missing\");\n",
       "        }\n",
       "      }\n",
       "    }, 25, root)\n",
       "  }\n",
       "})(window);</script>"
      ],
      "text/plain": [
       "<hvplot.interactive.Interactive at 0x7f58747200d0>"
      ]
     },
     "execution_count": 31,
     "metadata": {
      "application/vnd.holoviews_exec.v0+json": {
       "id": "1216"
      }
     },
     "output_type": "execute_result"
    }
   ],
   "source": [
    "data_table = idf.pipe(pn.widgets.Tabulator, pagination='remote', page_size = 10, sizing_mode='stretch_width')\n",
    "data_table"
   ]
  },
  {
   "cell_type": "markdown",
   "id": "2ca348e2-749d-4118-ad2e-07fe1fa3e802",
   "metadata": {},
   "source": [
    "## Creating Dashboard"
   ]
  },
  {
   "cell_type": "markdown",
   "id": "836a68b6-6a3c-469b-acc6-bcc735cfe913",
   "metadata": {},
   "source": [
    "#Layout using Template\n",
    "template = pn.template.FastListTemplate(\n",
    "    title='Star Jeans', \n",
    "    sidebar=[pn.pane.Markdown(\"# Star Jeans Dashboard\"), \n",
    "             pn.pane.Markdown(\"#### This is the dashboard of jeans data.\"), \n",
    "             pn.pane.JPG('dashboard/jeans.jpg', sizing_mode='stretch_height')],\n",
    "    main=[pn.Row(pn.Column(y_axis_price, \n",
    "                           price_bar_plot.panel(width=700), margin=(0,25)), \n",
    "                 table_product.panel(width=605)), \n",
    "          pn.Row(table.panel(width=700), margin=(0,25))],\n",
    "    accent_base_color=\"#4f6bb3\",\n",
    "    header_background=\"#000f35\",\n",
    ")\n",
    "template.show()"
   ]
  },
  {
   "cell_type": "code",
   "execution_count": 41,
   "id": "aae55f99-eb69-42df-adee-ff664c4f99bb",
   "metadata": {},
   "outputs": [
    {
     "name": "stderr",
     "output_type": "stream",
     "text": [
      "WARNING:param.ParamFunction03102: The function 'evaluate' does not have any dependencies and will never update. Are you sure you did not intend to depend on or bind a parameter or widget to this function? If not simply call the function before passing it to Panel. Otherwise, when passing a parameter as an argument, ensure you pass at least one parameter and reference the actual parameter object not the current value, i.e. use object.param.parameter not object.parameter.\n",
      "WARNING:param.ParamFunction03120: The function 'evaluate' does not have any dependencies and will never update. Are you sure you did not intend to depend on or bind a parameter or widget to this function? If not simply call the function before passing it to Panel. Otherwise, when passing a parameter as an argument, ensure you pass at least one parameter and reference the actual parameter object not the current value, i.e. use object.param.parameter not object.parameter.\n"
     ]
    },
    {
     "name": "stdout",
     "output_type": "stream",
     "text": [
      "Launching server at http://localhost:44503\n"
     ]
    },
    {
     "data": {
      "text/plain": [
       "<bokeh.server.server.Server at 0x7f58743244c0>"
      ]
     },
     "execution_count": 41,
     "metadata": {},
     "output_type": "execute_result"
    }
   ],
   "source": [
    "#Layout using Template\n",
    "template = pn.template.FastListTemplate(\n",
    "    title='Star Jeans', \n",
    "    sidebar=[pn.pane.Markdown(\"# Star Jeans Dashboard\"), \n",
    "             pn.pane.Markdown(\"#### Neste dashboard encontra-se o resultado da coleta de dados sobre calças jeans masculinas para a Star Jeans.\\n#### No gráfico de barras, você encontra a relevância dos tipos de calças e de cores.\\n#### Na tabela à direita temos as médias e medianas dos preços por tipo de calças.\\n#### E na tabela abaixo os dados que foram coletados e tratados.\"), \n",
    "             pn.pane.JPG('img/jeans.jpg', sizing_mode='stretch_width')],\n",
    "    main=[pn.Row(pn.Column(y_axis, \n",
    "                           bar_plot.panel(width=600), margin=(0,25)), \n",
    "                 response_table.panel(width=600)), \n",
    "          pn.Row(data_table.panel(width=1225), margin=(0,25))],\n",
    "    accent_base_color=\"#4f6bb3\",\n",
    "    header_background=\"#000f35\",\n",
    "    theme_toggle=False,\n",
    ")\n",
    "template.show()"
   ]
  }
 ],
 "metadata": {
  "kernelspec": {
   "display_name": "Python 3 (ipykernel)",
   "language": "python",
   "name": "python3"
  },
  "language_info": {
   "codemirror_mode": {
    "name": "ipython",
    "version": 3
   },
   "file_extension": ".py",
   "mimetype": "text/x-python",
   "name": "python",
   "nbconvert_exporter": "python",
   "pygments_lexer": "ipython3",
   "version": "3.10.0"
  }
 },
 "nbformat": 4,
 "nbformat_minor": 5
}
